{
 "cells": [
  {
   "cell_type": "markdown",
   "id": "728fb278-2df0-41c8-861e-adbd4ceb774d",
   "metadata": {},
   "source": [
    "# Advanced Models"
   ]
  },
  {
   "cell_type": "code",
   "execution_count": 2,
   "id": "08e01f5c-4695-41cb-a986-f9e564f28100",
   "metadata": {},
   "outputs": [],
   "source": [
    "import numpy as np\n",
    "import pandas as pd\n",
    "import matplotlib.pyplot as plt\n",
    "\n",
    "import keras_hub as hub\n",
    "import keras\n",
    "\n",
    "import tensorflow as tf\n",
    "from datasets import Dataset\n",
    "#import tensorflow_decision_forests as tfdf\n",
    "#import ydf\n",
    "from sklearn.model_selection import train_test_split"
   ]
  },
  {
   "cell_type": "markdown",
   "id": "22a4e442-834f-40af-981f-a503d9e87ed5",
   "metadata": {},
   "source": [
    "Embeddings"
   ]
  },
  {
   "cell_type": "code",
   "execution_count": 21,
   "id": "ee436ddf-62e1-450c-a522-c52ff295ba34",
   "metadata": {},
   "outputs": [],
   "source": [
    "from sklearn.metrics import classification_report, ConfusionMatrixDisplay"
   ]
  },
  {
   "cell_type": "markdown",
   "id": "1bc04903-daaa-4802-bd2b-9242285c6e5a",
   "metadata": {},
   "source": [
    "## Data Set Up"
   ]
  },
  {
   "cell_type": "code",
   "execution_count": 3,
   "id": "c05b3b28-164c-4156-8b8d-1e120af05d96",
   "metadata": {},
   "outputs": [],
   "source": [
    "df = pd.read_csv('../data/clean/job_ads.csv')"
   ]
  },
  {
   "cell_type": "code",
   "execution_count": 4,
   "id": "a19022ae-4683-4293-8990-e6d79923cd8f",
   "metadata": {},
   "outputs": [
    {
     "data": {
      "text/plain": [
       "Index(['title', 'department', 'telecommuting', 'has_company_logo',\n",
       "       'has_questions', 'employment_type', 'required_experience',\n",
       "       'required_education', 'industry', 'function', 'fraudulent', 'job_ad',\n",
       "       'country'],\n",
       "      dtype='object')"
      ]
     },
     "execution_count": 4,
     "metadata": {},
     "output_type": "execute_result"
    }
   ],
   "source": [
    "df.columns"
   ]
  },
  {
   "cell_type": "code",
   "execution_count": 5,
   "id": "56a2d43b-bb98-4606-ac82-7db5469bf0d2",
   "metadata": {},
   "outputs": [],
   "source": [
    "X = df['job_ad']\n",
    "y = df['fraudulent']"
   ]
  },
  {
   "cell_type": "code",
   "execution_count": 6,
   "id": "809c9443-0edc-45a6-b884-20846983e7cd",
   "metadata": {},
   "outputs": [],
   "source": [
    "X = X.fillna('')"
   ]
  },
  {
   "cell_type": "code",
   "execution_count": 7,
   "id": "d44ce370-07c9-4c8c-825f-a9fa9f7fc4ab",
   "metadata": {},
   "outputs": [],
   "source": [
    "X_train, X_test, y_train, y_test = train_test_split(X, y, stratify= y, test_size=0.2, random_state= 16312)"
   ]
  },
  {
   "cell_type": "markdown",
   "id": "f4936199-ae94-4c0b-889b-b1fc662c91fc",
   "metadata": {},
   "source": [
    "## Model Set Up"
   ]
  },
  {
   "cell_type": "markdown",
   "id": "ca8d141d-e0cd-4b10-9b29-ea9d34c89fb0",
   "metadata": {},
   "source": [
    "Documentation from Keras on using the [DistilBERT models](https://keras.io/keras_hub/api/models/distil_bert/distil_bert_text_classifier/)"
   ]
  },
  {
   "cell_type": "code",
   "execution_count": 8,
   "id": "542d8825-fc49-4cdd-960a-646e33e24d76",
   "metadata": {},
   "outputs": [],
   "source": [
    "#tokenizer = keras_hub.tokenizers.Tokenizer.from_preset(\n",
    "#    'distil_bert_base_en_uncased'\n",
    "#)\n",
    "#backbone = keras_hub.models.Backbone.from_preset(\n",
    "#    'destil_bert_base_en_uncased'\n",
    "#)\n",
    "preprocessor = hub.models.DistilBertTextClassifierPreprocessor.from_preset(\n",
    "    \"distil_bert_base_en_uncased\",\n",
    "    #sequence_length=15_000,\n",
    ")\n",
    "\n",
    "classifier = hub.models.DistilBertTextClassifier.from_preset(\n",
    "    \"distil_bert_base_en_uncased\",\n",
    "    num_classes=2,\n",
    "    preprocessor = preprocessor\n",
    ")\n",
    "\n",
    "model_checkpoint = keras.callbacks.ModelCheckpoint(\n",
    "    filepath='keras_model1/epoch{epoch:02d}.keras',\n",
    "    monitor = 'val_accuracy',\n",
    "    mode='max'\n",
    ")\n",
    "\n",
    "model_earlystopping = keras.callbacks.EarlyStopping(\n",
    "    monitor='val_loss',\n",
    "    patience=5,\n",
    "    baseline= 0.01,\n",
    "    start_from_epoch=5\n",
    ")"
   ]
  },
  {
   "cell_type": "code",
   "execution_count": 9,
   "id": "68f18df3-23e3-4f2f-a628-1981d4dcb766",
   "metadata": {},
   "outputs": [
    {
     "name": "stdout",
     "output_type": "stream",
     "text": [
      "\u001b[1m112/112\u001b[0m \u001b[32m━━━━━━━━━━━━━━━━━━━━\u001b[0m\u001b[37m\u001b[0m \u001b[1m12508s\u001b[0m 112s/step - loss: 0.2405 - sparse_categorical_accuracy: 0.9288 - val_loss: 0.0925 - val_sparse_categorical_accuracy: 0.9737\n"
     ]
    }
   ],
   "source": [
    "hisotry0 = classifier.fit(\n",
    "    x= X_train, \n",
    "    y= y_train, \n",
    "    batch_size=128,\n",
    "    callbacks = [model_checkpoint, model_earlystopping],\n",
    "    validation_data = (X_test, y_test),\n",
    ")"
   ]
  },
  {
   "cell_type": "code",
   "execution_count": 19,
   "id": "b78b8fec-f2a2-4cc4-9251-30bab312fe10",
   "metadata": {},
   "outputs": [
    {
     "data": {
      "text/plain": [
       "[0.9521812200546265]"
      ]
     },
     "execution_count": 19,
     "metadata": {},
     "output_type": "execute_result"
    }
   ],
   "source": [
    "hisotry0.history['sparse_categorical_accuracy']"
   ]
  },
  {
   "cell_type": "code",
   "execution_count": 20,
   "id": "5023e184-5ea1-411b-b597-dd59e24873b4",
   "metadata": {},
   "outputs": [
    {
     "data": {
      "text/plain": [
       "[0.9737136363983154]"
      ]
     },
     "execution_count": 20,
     "metadata": {},
     "output_type": "execute_result"
    }
   ],
   "source": [
    "hisotry0.history['val_sparse_categorical_accuracy']"
   ]
  },
  {
   "cell_type": "code",
   "execution_count": 21,
   "id": "2f6ca65a-035a-4e89-8c9f-daf7fdbe96d5",
   "metadata": {},
   "outputs": [
    {
     "data": {
      "text/plain": [
       "[0.1696959286928177]"
      ]
     },
     "execution_count": 21,
     "metadata": {},
     "output_type": "execute_result"
    }
   ],
   "source": [
    "hisotry0.history['loss']"
   ]
  },
  {
   "cell_type": "code",
   "execution_count": 22,
   "id": "b72ed0e0-65e8-4bd1-9800-7b8af2828a63",
   "metadata": {},
   "outputs": [
    {
     "data": {
      "text/plain": [
       "[0.09252356737852097]"
      ]
     },
     "execution_count": 22,
     "metadata": {},
     "output_type": "execute_result"
    }
   ],
   "source": [
    "hisotry0.history['val_loss']"
   ]
  },
  {
   "cell_type": "code",
   "execution_count": 25,
   "id": "d8682f72-6514-4d7b-abb7-023bcd63cea6",
   "metadata": {},
   "outputs": [],
   "source": [
    "y_train_one_hot = keras.utils.to_categorical(y_train, num_classes = 2)"
   ]
  },
  {
   "cell_type": "code",
   "execution_count": 30,
   "id": "a558d322-88cd-494b-b427-360b3075145c",
   "metadata": {},
   "outputs": [],
   "source": [
    "y_test_one_hot = keras.utils.to_categorical(y_test, num_classes = 2)"
   ]
  },
  {
   "cell_type": "code",
   "execution_count": 26,
   "id": "fcc46300-bebe-4b15-ac5d-b18568b71bef",
   "metadata": {},
   "outputs": [
    {
     "data": {
      "text/plain": [
       "(14304, 2)"
      ]
     },
     "execution_count": 26,
     "metadata": {},
     "output_type": "execute_result"
    }
   ],
   "source": [
    "y_train_one_hot.shape"
   ]
  },
  {
   "cell_type": "code",
   "execution_count": 23,
   "id": "3f1c6590-bca6-46be-8eb3-02096b7153c3",
   "metadata": {},
   "outputs": [],
   "source": [
    "classifier.compile(\n",
    "    optimizer= keras.optimizers.Adam(learning_rate = 2e-5),\n",
    "    loss= keras.losses.BinaryCrossentropy(),\n",
    "    metrics = [keras.metrics.BinaryAccuracy()],\n",
    ")\n",
    "\n",
    "classifier.backbone.trainable = False"
   ]
  },
  {
   "cell_type": "code",
   "execution_count": 28,
   "id": "9830fb12-21fb-43db-b4bf-e5ca2ccc5da8",
   "metadata": {},
   "outputs": [],
   "source": [
    "model_checkpoint_1 = keras.callbacks.ModelCheckpoint(\n",
    "    filepath='keras_model1/epoch{epoch:02d}.keras',\n",
    "    monitor = 'val_accuracy',\n",
    "    mode='max'\n",
    ")\n",
    "\n",
    "model_earlystopping_1 = keras.callbacks.EarlyStopping(\n",
    "    monitor='val_loss',\n",
    "    patience=5,\n",
    "    baseline= 0.01,\n",
    "    start_from_epoch=5\n",
    ")"
   ]
  },
  {
   "cell_type": "code",
   "execution_count": 31,
   "id": "5936b547-1b34-4dd3-82cd-bfae39fab313",
   "metadata": {},
   "outputs": [
    {
     "name": "stdout",
     "output_type": "stream",
     "text": [
      "Epoch 1/20\n"
     ]
    },
    {
     "ename": "ValueError",
     "evalue": "Attr 'Toutput_types' of 'OptionalFromValue' Op passed list of length 0 less than minimum 1.",
     "output_type": "error",
     "traceback": [
      "\u001b[31m---------------------------------------------------------------------------\u001b[39m",
      "\u001b[31mValueError\u001b[39m                                Traceback (most recent call last)",
      "\u001b[36mCell\u001b[39m\u001b[36m \u001b[39m\u001b[32mIn[31]\u001b[39m\u001b[32m, line 1\u001b[39m\n\u001b[32m----> \u001b[39m\u001b[32m1\u001b[39m history1 = \u001b[43mclassifier\u001b[49m\u001b[43m.\u001b[49m\u001b[43mfit\u001b[49m\u001b[43m(\u001b[49m\n\u001b[32m      2\u001b[39m \u001b[43m    \u001b[49m\u001b[43mx\u001b[49m\u001b[43m=\u001b[49m\u001b[43m \u001b[49m\u001b[43mX_train\u001b[49m\u001b[43m,\u001b[49m\u001b[43m \u001b[49m\n\u001b[32m      3\u001b[39m \u001b[43m    \u001b[49m\u001b[43my\u001b[49m\u001b[43m=\u001b[49m\u001b[43m \u001b[49m\u001b[43my_train_one_hot\u001b[49m\u001b[43m,\u001b[49m\u001b[43m \u001b[49m\n\u001b[32m      4\u001b[39m \u001b[43m    \u001b[49m\u001b[43mbatch_size\u001b[49m\u001b[43m=\u001b[49m\u001b[32;43m128\u001b[39;49m\u001b[43m,\u001b[49m\n\u001b[32m      5\u001b[39m \u001b[43m    \u001b[49m\u001b[43mepochs\u001b[49m\u001b[43m=\u001b[49m\u001b[32;43m20\u001b[39;49m\u001b[43m,\u001b[49m\n\u001b[32m      6\u001b[39m \u001b[43m    \u001b[49m\u001b[43mcallbacks\u001b[49m\u001b[43m \u001b[49m\u001b[43m=\u001b[49m\u001b[43m \u001b[49m\u001b[43m[\u001b[49m\u001b[43mmodel_checkpoint\u001b[49m\u001b[43m,\u001b[49m\u001b[43m \u001b[49m\u001b[43mmodel_earlystopping\u001b[49m\u001b[43m]\u001b[49m\u001b[43m,\u001b[49m\n\u001b[32m      7\u001b[39m \u001b[43m    \u001b[49m\u001b[43mvalidation_data\u001b[49m\u001b[43m \u001b[49m\u001b[43m=\u001b[49m\u001b[43m \u001b[49m\u001b[43m(\u001b[49m\u001b[43mX_test\u001b[49m\u001b[43m,\u001b[49m\u001b[43m \u001b[49m\u001b[43my_test_one_hot\u001b[49m\u001b[43m)\u001b[49m\u001b[43m,\u001b[49m\n\u001b[32m      8\u001b[39m \u001b[43m)\u001b[49m\n",
      "\u001b[36mFile \u001b[39m\u001b[32m~/venvs/dsb_602/lib/python3.11/site-packages/keras_hub/src/utils/pipeline_model.py:177\u001b[39m, in \u001b[36mPipelineModel.fit\u001b[39m\u001b[34m(self, x, y, batch_size, sample_weight, validation_data, validation_split, **kwargs)\u001b[39m\n\u001b[32m    170\u001b[39m         (vx, vy, vsw) = keras.utils.unpack_x_y_sample_weight(\n\u001b[32m    171\u001b[39m             validation_data\n\u001b[32m    172\u001b[39m         )\n\u001b[32m    173\u001b[39m         validation_data = _convert_inputs_to_dataset(\n\u001b[32m    174\u001b[39m             vx, vy, vsw, batch_size\n\u001b[32m    175\u001b[39m         )\n\u001b[32m--> \u001b[39m\u001b[32m177\u001b[39m \u001b[38;5;28;01mreturn\u001b[39;00m \u001b[38;5;28;43msuper\u001b[39;49m\u001b[43m(\u001b[49m\u001b[43m)\u001b[49m\u001b[43m.\u001b[49m\u001b[43mfit\u001b[49m\u001b[43m(\u001b[49m\n\u001b[32m    178\u001b[39m \u001b[43m    \u001b[49m\u001b[43mx\u001b[49m\u001b[43m=\u001b[49m\u001b[43mx\u001b[49m\u001b[43m,\u001b[49m\n\u001b[32m    179\u001b[39m \u001b[43m    \u001b[49m\u001b[43my\u001b[49m\u001b[43m=\u001b[49m\u001b[38;5;28;43;01mNone\u001b[39;49;00m\u001b[43m,\u001b[49m\n\u001b[32m    180\u001b[39m \u001b[43m    \u001b[49m\u001b[43mbatch_size\u001b[49m\u001b[43m=\u001b[49m\u001b[38;5;28;43;01mNone\u001b[39;49;00m\u001b[43m,\u001b[49m\n\u001b[32m    181\u001b[39m \u001b[43m    \u001b[49m\u001b[43msample_weight\u001b[49m\u001b[43m=\u001b[49m\u001b[38;5;28;43;01mNone\u001b[39;49;00m\u001b[43m,\u001b[49m\n\u001b[32m    182\u001b[39m \u001b[43m    \u001b[49m\u001b[43mvalidation_data\u001b[49m\u001b[43m=\u001b[49m\u001b[43mvalidation_data\u001b[49m\u001b[43m,\u001b[49m\n\u001b[32m    183\u001b[39m \u001b[43m    \u001b[49m\u001b[43m*\u001b[49m\u001b[43m*\u001b[49m\u001b[43mkwargs\u001b[49m\u001b[43m,\u001b[49m\n\u001b[32m    184\u001b[39m \u001b[43m\u001b[49m\u001b[43m)\u001b[49m\n",
      "\u001b[36mFile \u001b[39m\u001b[32m~/venvs/dsb_602/lib/python3.11/site-packages/keras/src/utils/traceback_utils.py:122\u001b[39m, in \u001b[36mfilter_traceback.<locals>.error_handler\u001b[39m\u001b[34m(*args, **kwargs)\u001b[39m\n\u001b[32m    119\u001b[39m     filtered_tb = _process_traceback_frames(e.__traceback__)\n\u001b[32m    120\u001b[39m     \u001b[38;5;66;03m# To get the full stack trace, call:\u001b[39;00m\n\u001b[32m    121\u001b[39m     \u001b[38;5;66;03m# `keras.config.disable_traceback_filtering()`\u001b[39;00m\n\u001b[32m--> \u001b[39m\u001b[32m122\u001b[39m     \u001b[38;5;28;01mraise\u001b[39;00m e.with_traceback(filtered_tb) \u001b[38;5;28;01mfrom\u001b[39;00m\u001b[38;5;250m \u001b[39m\u001b[38;5;28;01mNone\u001b[39;00m\n\u001b[32m    123\u001b[39m \u001b[38;5;28;01mfinally\u001b[39;00m:\n\u001b[32m    124\u001b[39m     \u001b[38;5;28;01mdel\u001b[39;00m filtered_tb\n",
      "\u001b[36mFile \u001b[39m\u001b[32m~/venvs/dsb_602/lib/python3.11/site-packages/keras/src/backend/tensorflow/trainer.py:131\u001b[39m, in \u001b[36mTensorFlowTrainer._make_function.<locals>.multi_step_on_iterator\u001b[39m\u001b[34m(iterator)\u001b[39m\n\u001b[32m    128\u001b[39m \u001b[38;5;129m@tf\u001b[39m.autograph.experimental.do_not_convert\n\u001b[32m    129\u001b[39m \u001b[38;5;28;01mdef\u001b[39;00m\u001b[38;5;250m \u001b[39m\u001b[34mmulti_step_on_iterator\u001b[39m(iterator):\n\u001b[32m    130\u001b[39m     \u001b[38;5;28;01mif\u001b[39;00m \u001b[38;5;28mself\u001b[39m.steps_per_execution == \u001b[32m1\u001b[39m:\n\u001b[32m--> \u001b[39m\u001b[32m131\u001b[39m         \u001b[38;5;28;01mreturn\u001b[39;00m \u001b[43mtf\u001b[49m\u001b[43m.\u001b[49m\u001b[43mexperimental\u001b[49m\u001b[43m.\u001b[49m\u001b[43mOptional\u001b[49m\u001b[43m.\u001b[49m\u001b[43mfrom_value\u001b[49m\u001b[43m(\u001b[49m\n\u001b[32m    132\u001b[39m \u001b[43m            \u001b[49m\u001b[43mone_step_on_data\u001b[49m\u001b[43m(\u001b[49m\u001b[43miterator\u001b[49m\u001b[43m.\u001b[49m\u001b[43mget_next\u001b[49m\u001b[43m(\u001b[49m\u001b[43m)\u001b[49m\u001b[43m)\u001b[49m\n\u001b[32m    133\u001b[39m \u001b[43m        \u001b[49m\u001b[43m)\u001b[49m\n\u001b[32m    135\u001b[39m     \u001b[38;5;66;03m# the spec is set lazily during the tracing of `tf.while_loop`\u001b[39;00m\n\u001b[32m    136\u001b[39m     empty_outputs = tf.experimental.Optional.empty(\u001b[38;5;28;01mNone\u001b[39;00m)\n",
      "\u001b[31mValueError\u001b[39m: Attr 'Toutput_types' of 'OptionalFromValue' Op passed list of length 0 less than minimum 1."
     ]
    }
   ],
   "source": [
    "history1 = classifier.fit(\n",
    "    x= X_train, \n",
    "    y= y_train_one_hot, \n",
    "    batch_size=128,\n",
    "    epochs=20,\n",
    "    callbacks = [model_checkpoint, model_earlystopping],\n",
    "    validation_data = (X_test, y_test_one_hot),\n",
    ")"
   ]
  },
  {
   "cell_type": "code",
   "execution_count": null,
   "id": "73013020-ee6a-42ff-8897-1ff165936200",
   "metadata": {},
   "outputs": [],
   "source": []
  },
  {
   "cell_type": "code",
   "execution_count": null,
   "id": "778ae8ca-a330-45f2-b8ed-075907c4ad38",
   "metadata": {},
   "outputs": [],
   "source": []
  },
  {
   "cell_type": "code",
   "execution_count": null,
   "id": "b7df38cc-e2fb-4e26-844d-6d519f3d9c53",
   "metadata": {},
   "outputs": [],
   "source": []
  },
  {
   "cell_type": "code",
   "execution_count": 67,
   "id": "84402b20-9a20-4cea-878f-9eb0289b9c24",
   "metadata": {},
   "outputs": [
    {
     "data": {
      "text/plain": [
       "(17880,)"
      ]
     },
     "execution_count": 67,
     "metadata": {},
     "output_type": "execute_result"
    }
   ],
   "source": [
    "X.shape"
   ]
  },
  {
   "cell_type": "code",
   "execution_count": 68,
   "id": "c5276c45-1543-43a0-b9d9-5d92b1976d0d",
   "metadata": {},
   "outputs": [
    {
     "data": {
      "text/plain": [
       "(17880,)"
      ]
     },
     "execution_count": 68,
     "metadata": {},
     "output_type": "execute_result"
    }
   ],
   "source": [
    "y.shape"
   ]
  },
  {
   "cell_type": "code",
   "execution_count": null,
   "id": "19bf03d1-fd08-40e0-9e37-e79a75a9b892",
   "metadata": {},
   "outputs": [],
   "source": []
  },
  {
   "cell_type": "code",
   "execution_count": null,
   "id": "a7a5fab7-389b-40ff-bba5-0d7939f1df1b",
   "metadata": {},
   "outputs": [],
   "source": []
  },
  {
   "cell_type": "code",
   "execution_count": null,
   "id": "3e56a4ee-3bab-4fd7-9274-bfd1c20a7612",
   "metadata": {},
   "outputs": [],
   "source": [
    "# Example training:\n",
    "# classifier.fit(\n",
    "#     x=your_text_data,\n",
    "#     y=your_labels,\n",
    "#     epochs=some_epochs,\n",
    "#     batch_size=some_batch_size\n",
    "# )"
   ]
  },
  {
   "cell_type": "code",
   "execution_count": null,
   "id": "324814cf-9ec1-4950-afa0-41e9692c0d49",
   "metadata": {},
   "outputs": [],
   "source": [
    "# predictions = classifier.predict(new_text_data)"
   ]
  },
  {
   "cell_type": "code",
   "execution_count": null,
   "id": "be16ce7f-3c43-4104-8e50-914355803e6a",
   "metadata": {},
   "outputs": [],
   "source": []
  },
  {
   "cell_type": "code",
   "execution_count": null,
   "id": "3d516787-7042-4c4d-9c8d-f1ea4b4ce6d2",
   "metadata": {},
   "outputs": [],
   "source": []
  },
  {
   "cell_type": "code",
   "execution_count": null,
   "id": "6f9f103b-fd37-4463-8b22-b6be3bf30d84",
   "metadata": {},
   "outputs": [],
   "source": []
  },
  {
   "cell_type": "code",
   "execution_count": null,
   "id": "675c6707-60cc-4973-ad8b-1b822c7b5ba0",
   "metadata": {},
   "outputs": [],
   "source": []
  },
  {
   "cell_type": "code",
   "execution_count": null,
   "id": "b6c21ebf-7a38-48e1-a294-79acafddc6cd",
   "metadata": {
    "jupyter": {
     "source_hidden": true
    }
   },
   "outputs": [],
   "source": [
    "text_classifier = pipeline('text-classification', model='distilbert/distilbert-base-uncased')"
   ]
  },
  {
   "cell_type": "markdown",
   "id": "80d9f1ef-f534-4d90-ac55-c115c8970ca1",
   "metadata": {},
   "source": [
    "We're going to fine-tune the [DistilBERT model](https://huggingface.co/distilbert/distilbert-base-uncased) to classify these fraudulent job ads."
   ]
  },
  {
   "cell_type": "code",
   "execution_count": null,
   "id": "7989cd84-2939-4f66-aba5-3cf85c658a3f",
   "metadata": {},
   "outputs": [],
   "source": []
  },
  {
   "cell_type": "code",
   "execution_count": null,
   "id": "0f18ada0-2c64-4952-8ef6-119b53fc5a5c",
   "metadata": {},
   "outputs": [],
   "source": []
  },
  {
   "cell_type": "code",
   "execution_count": null,
   "id": "56cf4605-4f01-4ccf-b2a3-1674658d14fd",
   "metadata": {},
   "outputs": [],
   "source": []
  },
  {
   "cell_type": "code",
   "execution_count": null,
   "id": "1183ff28-5ef6-423c-be2b-3ec92cab8e37",
   "metadata": {},
   "outputs": [],
   "source": []
  },
  {
   "cell_type": "code",
   "execution_count": null,
   "id": "b14c742c-0d6d-477b-b18d-6cf28754307a",
   "metadata": {},
   "outputs": [],
   "source": []
  },
  {
   "cell_type": "code",
   "execution_count": 9,
   "id": "d86ad13c-f409-4ca2-93b4-4279075cf182",
   "metadata": {},
   "outputs": [
    {
     "name": "stdout",
     "output_type": "stream",
     "text": [
      "Epoch 1/20\n",
      "\u001b[1m447/447\u001b[0m \u001b[32m━━━━━━━━━━━━━━━━━━━━\u001b[0m\u001b[37m\u001b[0m \u001b[1m6862s\u001b[0m 15s/step - loss: 0.1905 - sparse_categorical_accuracy: 0.9417 - val_loss: 0.0754 - val_sparse_categorical_accuracy: 0.9768\n",
      "Epoch 2/20\n",
      "\u001b[1m447/447\u001b[0m \u001b[32m━━━━━━━━━━━━━━━━━━━━\u001b[0m\u001b[37m\u001b[0m \u001b[1m7035s\u001b[0m 16s/step - loss: 0.0556 - sparse_categorical_accuracy: 0.9823 - val_loss: 0.0633 - val_sparse_categorical_accuracy: 0.9821\n",
      "Epoch 3/20\n",
      "\u001b[1m447/447\u001b[0m \u001b[32m━━━━━━━━━━━━━━━━━━━━\u001b[0m\u001b[37m\u001b[0m \u001b[1m7346s\u001b[0m 16s/step - loss: 0.0252 - sparse_categorical_accuracy: 0.9929 - val_loss: 0.0765 - val_sparse_categorical_accuracy: 0.9829\n",
      "Epoch 4/20\n",
      "\u001b[1m447/447\u001b[0m \u001b[32m━━━━━━━━━━━━━━━━━━━━\u001b[0m\u001b[37m\u001b[0m \u001b[1m7241s\u001b[0m 16s/step - loss: 0.0164 - sparse_categorical_accuracy: 0.9950 - val_loss: 0.1080 - val_sparse_categorical_accuracy: 0.9810\n",
      "Epoch 5/20\n",
      "\u001b[1m447/447\u001b[0m \u001b[32m━━━━━━━━━━━━━━━━━━━━\u001b[0m\u001b[37m\u001b[0m \u001b[1m7253s\u001b[0m 16s/step - loss: 0.0104 - sparse_categorical_accuracy: 0.9965 - val_loss: 0.0754 - val_sparse_categorical_accuracy: 0.9855\n",
      "Epoch 6/20\n",
      "\u001b[1m447/447\u001b[0m \u001b[32m━━━━━━━━━━━━━━━━━━━━\u001b[0m\u001b[37m\u001b[0m \u001b[1m7244s\u001b[0m 16s/step - loss: 0.0052 - sparse_categorical_accuracy: 0.9985 - val_loss: 0.0909 - val_sparse_categorical_accuracy: 0.9866\n",
      "Epoch 7/20\n",
      "\u001b[1m447/447\u001b[0m \u001b[32m━━━━━━━━━━━━━━━━━━━━\u001b[0m\u001b[37m\u001b[0m \u001b[1m7293s\u001b[0m 16s/step - loss: 0.0035 - sparse_categorical_accuracy: 0.9986 - val_loss: 0.0799 - val_sparse_categorical_accuracy: 0.9849\n",
      "Epoch 8/20\n",
      "\u001b[1m447/447\u001b[0m \u001b[32m━━━━━━━━━━━━━━━━━━━━\u001b[0m\u001b[37m\u001b[0m \u001b[1m7270s\u001b[0m 16s/step - loss: 0.0069 - sparse_categorical_accuracy: 0.9979 - val_loss: 0.0947 - val_sparse_categorical_accuracy: 0.9835\n",
      "Epoch 9/20\n",
      "\u001b[1m447/447\u001b[0m \u001b[32m━━━━━━━━━━━━━━━━━━━━\u001b[0m\u001b[37m\u001b[0m \u001b[1m7171s\u001b[0m 16s/step - loss: 0.0022 - sparse_categorical_accuracy: 0.9992 - val_loss: 0.0952 - val_sparse_categorical_accuracy: 0.9866\n",
      "Epoch 10/20\n",
      "\u001b[1m447/447\u001b[0m \u001b[32m━━━━━━━━━━━━━━━━━━━━\u001b[0m\u001b[37m\u001b[0m \u001b[1m7237s\u001b[0m 16s/step - loss: 5.9748e-04 - sparse_categorical_accuracy: 0.9999 - val_loss: 0.0962 - val_sparse_categorical_accuracy: 0.9866\n"
     ]
    }
   ],
   "source": [
    "history1 = classifier.fit(\n",
    "    x=X_train,\n",
    "    y=y_train,\n",
    "    epochs = 20,\n",
    "    callbacks = [model_checkpoint, model_earlystopping],\n",
    "    validation_data = (X_test, y_test)\n",
    ")"
   ]
  },
  {
   "cell_type": "code",
   "execution_count": 10,
   "id": "9d9b73ae-c5be-4f88-a612-9c630d629b66",
   "metadata": {},
   "outputs": [
    {
     "data": {
      "text/plain": [
       "[0.07536141574382782,\n",
       " 0.06328988820314407,\n",
       " 0.07653730362653732,\n",
       " 0.1079559177160263,\n",
       " 0.07540149986743927,\n",
       " 0.09094066172838211,\n",
       " 0.0799139142036438,\n",
       " 0.09469270706176758,\n",
       " 0.09518659859895706,\n",
       " 0.0962059274315834]"
      ]
     },
     "execution_count": 10,
     "metadata": {},
     "output_type": "execute_result"
    }
   ],
   "source": [
    "history1.history['val_loss']"
   ]
  },
  {
   "cell_type": "code",
   "execution_count": 15,
   "id": "1227b7be-e6b1-4ef7-835e-6e4e52b8584e",
   "metadata": {},
   "outputs": [
    {
     "data": {
      "image/png": "[encoded data removed]",
      "text/plain": [
       "<Figure size 1400x700 with 2 Axes>"
      ]
     },
     "metadata": {},
     "output_type": "display_data"
    }
   ],
   "source": [
    "fig, axes = plt.subplots(1,2, figsize=(14,7))\n",
    "\n",
    "fig.suptitle('Model 1', fontsize = 20)\n",
    "ax=axes[0]\n",
    "ax.plot(history1.history['sparse_categorical_accuracy'], label= 'train')\n",
    "ax.plot(history1.history['val_sparse_categorical_accuracy'], label= 'test')\n",
    "\n",
    "ax.set_title('Sparse Categorical Accuracy')\n",
    "ax.set_xlabel('epochs')\n",
    "ax.set_ylabel('accuracy')\n",
    "ax.legend()\n",
    "\n",
    "ax=axes[1]\n",
    "ax.plot(history1.history['loss'], label= 'train')\n",
    "ax.plot(history1.history['val_loss'], label= 'test')\n",
    "\n",
    "ax.set_title('Loss: Crossentropy')\n",
    "ax.set_xlabel('epochs')\n",
    "ax.set_ylabel('loss')\n",
    "ax.legend();\n",
    "\n",
    "plt.savefig('../images/distilbert.jpg')"
   ]
  },
  {
   "cell_type": "code",
   "execution_count": null,
   "id": "3f2cf096-7fed-4f3f-8592-df6a216e1f18",
   "metadata": {},
   "outputs": [],
   "source": [
    "fig, axes = plt.subplots(1,2, figsize=(14,7))\n",
    "\n",
    "fig.suptitle('Model 1', fontsize = 20)\n",
    "ax=axes[0]\n",
    "ax.plot(history1.history['sparse_categorical_accuracy'], label= 'train')\n",
    "ax.plot(history1.history['val_sparse_categorical_accuracy'], label= 'test')\n",
    "\n",
    "ax.set_title('Sparse Categorical Accuracy')\n",
    "ax.set_xlabel('epochs')\n",
    "ax.set_ylabel('accuracy')\n",
    "ax.set_ylim(0,1)\n",
    "ax.legend()\n",
    "\n",
    "ax=axes[1]\n",
    "ax.plot(history1.history['loss'], label= 'train')\n",
    "ax.plot(history1.history['val_loss'], label= 'test')\n",
    "\n",
    "ax.set_title('Loss: Crossentropy')\n",
    "ax.set_xlabel('epochs')\n",
    "ax.set_ylabel('loss')\n",
    "ax.set_ylim(0,1)\n",
    "ax.legend();\n",
    "\n",
    "plt.savefig('../images/distilbert_full.jpg')"
   ]
  },
  {
   "cell_type": "code",
   "execution_count": 18,
   "id": "14d43231-9db6-40b4-859d-f8bf9b580f6a",
   "metadata": {},
   "outputs": [
    {
     "name": "stdout",
     "output_type": "stream",
     "text": [
      "\u001b[1m112/112\u001b[0m \u001b[32m━━━━━━━━━━━━━━━━━━━━\u001b[0m\u001b[37m\u001b[0m \u001b[1m589s\u001b[0m 5s/step\n"
     ]
    }
   ],
   "source": [
    "preds1 = classifier.predict(X_test)"
   ]
  },
  {
   "cell_type": "code",
   "execution_count": 23,
   "id": "9724dbd4-d8df-4830-926d-d4e4a5982892",
   "metadata": {},
   "outputs": [
    {
     "ename": "ValueError",
     "evalue": "Classification metrics can't handle a mix of binary and continuous-multioutput targets",
     "output_type": "error",
     "traceback": [
      "\u001b[31m---------------------------------------------------------------------------\u001b[39m",
      "\u001b[31mValueError\u001b[39m                                Traceback (most recent call last)",
      "\u001b[36mCell\u001b[39m\u001b[36m \u001b[39m\u001b[32mIn[23]\u001b[39m\u001b[32m, line 1\u001b[39m\n\u001b[32m----> \u001b[39m\u001b[32m1\u001b[39m \u001b[43mclassification_report\u001b[49m\u001b[43m(\u001b[49m\u001b[43my_test\u001b[49m\u001b[43m,\u001b[49m\u001b[43m \u001b[49m\u001b[43mpreds1\u001b[49m\u001b[43m,\u001b[49m\u001b[43m \u001b[49m\u001b[43mtarget_names\u001b[49m\u001b[43m \u001b[49m\u001b[43m=\u001b[49m\u001b[43m \u001b[49m\u001b[43m[\u001b[49m\u001b[33;43m'\u001b[39;49m\u001b[33;43mlegit\u001b[39;49m\u001b[33;43m'\u001b[39;49m\u001b[43m,\u001b[49m\u001b[43m \u001b[49m\u001b[33;43m'\u001b[39;49m\u001b[33;43mfraud\u001b[39;49m\u001b[33;43m'\u001b[39;49m\u001b[43m]\u001b[49m\u001b[43m,\u001b[49m\u001b[43m \u001b[49m\u001b[43mdigits\u001b[49m\u001b[43m=\u001b[49m\u001b[32;43m4\u001b[39;49m\u001b[43m)\u001b[49m\n",
      "\u001b[36mFile \u001b[39m\u001b[32m~/venvs/dsb_602/lib/python3.11/site-packages/sklearn/utils/_param_validation.py:216\u001b[39m, in \u001b[36mvalidate_params.<locals>.decorator.<locals>.wrapper\u001b[39m\u001b[34m(*args, **kwargs)\u001b[39m\n\u001b[32m    210\u001b[39m \u001b[38;5;28;01mtry\u001b[39;00m:\n\u001b[32m    211\u001b[39m     \u001b[38;5;28;01mwith\u001b[39;00m config_context(\n\u001b[32m    212\u001b[39m         skip_parameter_validation=(\n\u001b[32m    213\u001b[39m             prefer_skip_nested_validation \u001b[38;5;129;01mor\u001b[39;00m global_skip_validation\n\u001b[32m    214\u001b[39m         )\n\u001b[32m    215\u001b[39m     ):\n\u001b[32m--> \u001b[39m\u001b[32m216\u001b[39m         \u001b[38;5;28;01mreturn\u001b[39;00m \u001b[43mfunc\u001b[49m\u001b[43m(\u001b[49m\u001b[43m*\u001b[49m\u001b[43margs\u001b[49m\u001b[43m,\u001b[49m\u001b[43m \u001b[49m\u001b[43m*\u001b[49m\u001b[43m*\u001b[49m\u001b[43mkwargs\u001b[49m\u001b[43m)\u001b[49m\n\u001b[32m    217\u001b[39m \u001b[38;5;28;01mexcept\u001b[39;00m InvalidParameterError \u001b[38;5;28;01mas\u001b[39;00m e:\n\u001b[32m    218\u001b[39m     \u001b[38;5;66;03m# When the function is just a wrapper around an estimator, we allow\u001b[39;00m\n\u001b[32m    219\u001b[39m     \u001b[38;5;66;03m# the function to delegate validation to the estimator, but we replace\u001b[39;00m\n\u001b[32m    220\u001b[39m     \u001b[38;5;66;03m# the name of the estimator by the name of the function in the error\u001b[39;00m\n\u001b[32m    221\u001b[39m     \u001b[38;5;66;03m# message to avoid confusion.\u001b[39;00m\n\u001b[32m    222\u001b[39m     msg = re.sub(\n\u001b[32m    223\u001b[39m         \u001b[33mr\u001b[39m\u001b[33m\"\u001b[39m\u001b[33mparameter of \u001b[39m\u001b[33m\\\u001b[39m\u001b[33mw+ must be\u001b[39m\u001b[33m\"\u001b[39m,\n\u001b[32m    224\u001b[39m         \u001b[33mf\u001b[39m\u001b[33m\"\u001b[39m\u001b[33mparameter of \u001b[39m\u001b[38;5;132;01m{\u001b[39;00mfunc.\u001b[34m__qualname__\u001b[39m\u001b[38;5;132;01m}\u001b[39;00m\u001b[33m must be\u001b[39m\u001b[33m\"\u001b[39m,\n\u001b[32m    225\u001b[39m         \u001b[38;5;28mstr\u001b[39m(e),\n\u001b[32m    226\u001b[39m     )\n",
      "\u001b[36mFile \u001b[39m\u001b[32m~/venvs/dsb_602/lib/python3.11/site-packages/sklearn/metrics/_classification.py:2671\u001b[39m, in \u001b[36mclassification_report\u001b[39m\u001b[34m(y_true, y_pred, labels, target_names, sample_weight, digits, output_dict, zero_division)\u001b[39m\n\u001b[32m   2563\u001b[39m \u001b[38;5;250m\u001b[39m\u001b[33;03m\"\"\"Build a text report showing the main classification metrics.\u001b[39;00m\n\u001b[32m   2564\u001b[39m \n\u001b[32m   2565\u001b[39m \u001b[33;03mRead more in the :ref:`User Guide <classification_report>`.\u001b[39;00m\n\u001b[32m   (...)\u001b[39m\u001b[32m   2667\u001b[39m \u001b[33;03m<BLANKLINE>\u001b[39;00m\n\u001b[32m   2668\u001b[39m \u001b[33;03m\"\"\"\u001b[39;00m\n\u001b[32m   2670\u001b[39m y_true, y_pred = attach_unique(y_true, y_pred)\n\u001b[32m-> \u001b[39m\u001b[32m2671\u001b[39m y_type, y_true, y_pred = \u001b[43m_check_targets\u001b[49m\u001b[43m(\u001b[49m\u001b[43my_true\u001b[49m\u001b[43m,\u001b[49m\u001b[43m \u001b[49m\u001b[43my_pred\u001b[49m\u001b[43m)\u001b[49m\n\u001b[32m   2673\u001b[39m \u001b[38;5;28;01mif\u001b[39;00m labels \u001b[38;5;129;01mis\u001b[39;00m \u001b[38;5;28;01mNone\u001b[39;00m:\n\u001b[32m   2674\u001b[39m     labels = unique_labels(y_true, y_pred)\n",
      "\u001b[36mFile \u001b[39m\u001b[32m~/venvs/dsb_602/lib/python3.11/site-packages/sklearn/metrics/_classification.py:107\u001b[39m, in \u001b[36m_check_targets\u001b[39m\u001b[34m(y_true, y_pred)\u001b[39m\n\u001b[32m    104\u001b[39m     y_type = {\u001b[33m\"\u001b[39m\u001b[33mmulticlass\u001b[39m\u001b[33m\"\u001b[39m}\n\u001b[32m    106\u001b[39m \u001b[38;5;28;01mif\u001b[39;00m \u001b[38;5;28mlen\u001b[39m(y_type) > \u001b[32m1\u001b[39m:\n\u001b[32m--> \u001b[39m\u001b[32m107\u001b[39m     \u001b[38;5;28;01mraise\u001b[39;00m \u001b[38;5;167;01mValueError\u001b[39;00m(\n\u001b[32m    108\u001b[39m         \u001b[33m\"\u001b[39m\u001b[33mClassification metrics can\u001b[39m\u001b[33m'\u001b[39m\u001b[33mt handle a mix of \u001b[39m\u001b[38;5;132;01m{0}\u001b[39;00m\u001b[33m and \u001b[39m\u001b[38;5;132;01m{1}\u001b[39;00m\u001b[33m targets\u001b[39m\u001b[33m\"\u001b[39m.format(\n\u001b[32m    109\u001b[39m             type_true, type_pred\n\u001b[32m    110\u001b[39m         )\n\u001b[32m    111\u001b[39m     )\n\u001b[32m    113\u001b[39m \u001b[38;5;66;03m# We can't have more than one value on y_type => The set is no more needed\u001b[39;00m\n\u001b[32m    114\u001b[39m y_type = y_type.pop()\n",
      "\u001b[31mValueError\u001b[39m: Classification metrics can't handle a mix of binary and continuous-multioutput targets"
     ]
    }
   ],
   "source": [
    "classification_report(y_test, preds1, target_names = ['legit', 'fraud'], digits=4)"
   ]
  },
  {
   "cell_type": "code",
   "execution_count": 31,
   "id": "da8c2e36-b484-4b4b-84ff-e3d92eb15d1e",
   "metadata": {},
   "outputs": [
    {
     "data": {
      "text/plain": [
       "array([[ 5.3072286, -5.0601315],\n",
       "       [ 5.3076897, -5.0660696],\n",
       "       [ 5.220608 , -4.942237 ],\n",
       "       [ 5.306829 , -5.0634975],\n",
       "       [ 5.3131437, -5.0661216],\n",
       "       [-2.5349896,  2.4398482],\n",
       "       [ 5.2380886, -4.9584503],\n",
       "       [ 5.3138976, -5.0771074],\n",
       "       [ 5.3058634, -5.06546  ],\n",
       "       [ 5.3191004, -5.0726967],\n",
       "       [ 5.2620296, -4.9881706],\n",
       "       [ 5.311273 , -5.0689745],\n",
       "       [ 5.2989054, -5.0428624],\n",
       "       [ 5.3002625, -5.0584297],\n",
       "       [ 5.307322 , -5.065933 ],\n",
       "       [ 5.288185 , -5.0285435],\n",
       "       [ 5.2986355, -5.054661 ],\n",
       "       [ 5.3118534, -5.0699053],\n",
       "       [ 5.292017 , -5.0382543],\n",
       "       [ 5.2902894, -5.031836 ]], dtype=float32)"
      ]
     },
     "execution_count": 31,
     "metadata": {},
     "output_type": "execute_result"
    }
   ],
   "source": [
    "preds1[:20]"
   ]
  },
  {
   "cell_type": "code",
   "execution_count": null,
   "id": "2fbe73ce-e2ed-413d-be47-156a38495ab0",
   "metadata": {},
   "outputs": [],
   "source": []
  },
  {
   "cell_type": "code",
   "execution_count": null,
   "id": "9ab8fe8a-cb03-4186-87a5-dc249f21ce01",
   "metadata": {},
   "outputs": [],
   "source": []
  },
  {
   "cell_type": "code",
   "execution_count": 25,
   "id": "f2226c53-5639-44a7-8dac-9985884de44a",
   "metadata": {},
   "outputs": [
    {
     "data": {
      "text/plain": [
       "6246     0\n",
       "7291     0\n",
       "4206     0\n",
       "15046    0\n",
       "7043     0\n",
       "        ..\n",
       "9040     0\n",
       "332      0\n",
       "9982     0\n",
       "15975    0\n",
       "3914     0\n",
       "Name: fraudulent, Length: 3576, dtype: int64"
      ]
     },
     "execution_count": 25,
     "metadata": {},
     "output_type": "execute_result"
    }
   ],
   "source": [
    "y_test"
   ]
  },
  {
   "cell_type": "code",
   "execution_count": 27,
   "id": "e8092bec-09da-47a2-bf42-be0a00901ad0",
   "metadata": {},
   "outputs": [
    {
     "data": {
      "text/plain": [
       "6246     1\n",
       "7291     1\n",
       "4206     1\n",
       "15046    1\n",
       "7043     1\n",
       "        ..\n",
       "9040     1\n",
       "332      1\n",
       "9982     1\n",
       "15975    1\n",
       "3914     1\n",
       "Name: fraudulent, Length: 3576, dtype: int64"
      ]
     },
     "execution_count": 27,
     "metadata": {},
     "output_type": "execute_result"
    }
   ],
   "source": [
    "1-y_test"
   ]
  },
  {
   "cell_type": "code",
   "execution_count": null,
   "id": "81da04ed-a22c-4989-8255-92a475746b47",
   "metadata": {},
   "outputs": [],
   "source": []
  },
  {
   "cell_type": "code",
   "execution_count": 24,
   "id": "e92d98ac-b9fc-444b-b305-982f81db6864",
   "metadata": {},
   "outputs": [
    {
     "ename": "ValueError",
     "evalue": "Classification metrics can't handle a mix of binary and continuous-multioutput targets",
     "output_type": "error",
     "traceback": [
      "\u001b[31m---------------------------------------------------------------------------\u001b[39m",
      "\u001b[31mValueError\u001b[39m                                Traceback (most recent call last)",
      "\u001b[36mCell\u001b[39m\u001b[36m \u001b[39m\u001b[32mIn[24]\u001b[39m\u001b[32m, line 3\u001b[39m\n\u001b[32m      1\u001b[39m fig, ax = plt.subplots()\n\u001b[32m----> \u001b[39m\u001b[32m3\u001b[39m \u001b[43mConfusionMatrixDisplay\u001b[49m\u001b[43m.\u001b[49m\u001b[43mfrom_predictions\u001b[49m\u001b[43m(\u001b[49m\u001b[43my_test\u001b[49m\u001b[43m,\u001b[49m\u001b[43m \u001b[49m\u001b[43mpreds1\u001b[49m\u001b[43m,\u001b[49m\u001b[43m \u001b[49m\u001b[43mdisplay_labels\u001b[49m\u001b[43m=\u001b[49m\u001b[43m[\u001b[49m\u001b[33;43m'\u001b[39;49m\u001b[33;43mlegit\u001b[39;49m\u001b[33;43m'\u001b[39;49m\u001b[43m,\u001b[49m\u001b[43m \u001b[49m\u001b[33;43m'\u001b[39;49m\u001b[33;43mfraud\u001b[39;49m\u001b[33;43m'\u001b[39;49m\u001b[43m]\u001b[49m\u001b[43m,\u001b[49m\u001b[43m \u001b[49m\u001b[43max\u001b[49m\u001b[43m=\u001b[49m\u001b[43max\u001b[49m\u001b[43m)\u001b[49m;\n\u001b[32m      4\u001b[39m ax.set_title(\u001b[33m'\u001b[39m\u001b[33mConfusion Matrix\u001b[39m\u001b[33m'\u001b[39m)\n\u001b[32m      6\u001b[39m fig.savefig(\u001b[33m'\u001b[39m\u001b[33m../images/cm_distilbert.png\u001b[39m\u001b[33m'\u001b[39m)\n",
      "\u001b[36mFile \u001b[39m\u001b[32m~/venvs/dsb_602/lib/python3.11/site-packages/sklearn/metrics/_plot/confusion_matrix.py:467\u001b[39m, in \u001b[36mConfusionMatrixDisplay.from_predictions\u001b[39m\u001b[34m(cls, y_true, y_pred, labels, sample_weight, normalize, display_labels, include_values, xticks_rotation, values_format, cmap, ax, colorbar, im_kw, text_kw)\u001b[39m\n\u001b[32m    464\u001b[39m     \u001b[38;5;28;01melse\u001b[39;00m:\n\u001b[32m    465\u001b[39m         display_labels = labels\n\u001b[32m--> \u001b[39m\u001b[32m467\u001b[39m cm = \u001b[43mconfusion_matrix\u001b[49m\u001b[43m(\u001b[49m\n\u001b[32m    468\u001b[39m \u001b[43m    \u001b[49m\u001b[43my_true\u001b[49m\u001b[43m,\u001b[49m\n\u001b[32m    469\u001b[39m \u001b[43m    \u001b[49m\u001b[43my_pred\u001b[49m\u001b[43m,\u001b[49m\n\u001b[32m    470\u001b[39m \u001b[43m    \u001b[49m\u001b[43msample_weight\u001b[49m\u001b[43m=\u001b[49m\u001b[43msample_weight\u001b[49m\u001b[43m,\u001b[49m\n\u001b[32m    471\u001b[39m \u001b[43m    \u001b[49m\u001b[43mlabels\u001b[49m\u001b[43m=\u001b[49m\u001b[43mlabels\u001b[49m\u001b[43m,\u001b[49m\n\u001b[32m    472\u001b[39m \u001b[43m    \u001b[49m\u001b[43mnormalize\u001b[49m\u001b[43m=\u001b[49m\u001b[43mnormalize\u001b[49m\u001b[43m,\u001b[49m\n\u001b[32m    473\u001b[39m \u001b[43m\u001b[49m\u001b[43m)\u001b[49m\n\u001b[32m    475\u001b[39m disp = \u001b[38;5;28mcls\u001b[39m(confusion_matrix=cm, display_labels=display_labels)\n\u001b[32m    477\u001b[39m \u001b[38;5;28;01mreturn\u001b[39;00m disp.plot(\n\u001b[32m    478\u001b[39m     include_values=include_values,\n\u001b[32m    479\u001b[39m     cmap=cmap,\n\u001b[32m   (...)\u001b[39m\u001b[32m    485\u001b[39m     text_kw=text_kw,\n\u001b[32m    486\u001b[39m )\n",
      "\u001b[36mFile \u001b[39m\u001b[32m~/venvs/dsb_602/lib/python3.11/site-packages/sklearn/utils/_param_validation.py:216\u001b[39m, in \u001b[36mvalidate_params.<locals>.decorator.<locals>.wrapper\u001b[39m\u001b[34m(*args, **kwargs)\u001b[39m\n\u001b[32m    210\u001b[39m \u001b[38;5;28;01mtry\u001b[39;00m:\n\u001b[32m    211\u001b[39m     \u001b[38;5;28;01mwith\u001b[39;00m config_context(\n\u001b[32m    212\u001b[39m         skip_parameter_validation=(\n\u001b[32m    213\u001b[39m             prefer_skip_nested_validation \u001b[38;5;129;01mor\u001b[39;00m global_skip_validation\n\u001b[32m    214\u001b[39m         )\n\u001b[32m    215\u001b[39m     ):\n\u001b[32m--> \u001b[39m\u001b[32m216\u001b[39m         \u001b[38;5;28;01mreturn\u001b[39;00m \u001b[43mfunc\u001b[49m\u001b[43m(\u001b[49m\u001b[43m*\u001b[49m\u001b[43margs\u001b[49m\u001b[43m,\u001b[49m\u001b[43m \u001b[49m\u001b[43m*\u001b[49m\u001b[43m*\u001b[49m\u001b[43mkwargs\u001b[49m\u001b[43m)\u001b[49m\n\u001b[32m    217\u001b[39m \u001b[38;5;28;01mexcept\u001b[39;00m InvalidParameterError \u001b[38;5;28;01mas\u001b[39;00m e:\n\u001b[32m    218\u001b[39m     \u001b[38;5;66;03m# When the function is just a wrapper around an estimator, we allow\u001b[39;00m\n\u001b[32m    219\u001b[39m     \u001b[38;5;66;03m# the function to delegate validation to the estimator, but we replace\u001b[39;00m\n\u001b[32m    220\u001b[39m     \u001b[38;5;66;03m# the name of the estimator by the name of the function in the error\u001b[39;00m\n\u001b[32m    221\u001b[39m     \u001b[38;5;66;03m# message to avoid confusion.\u001b[39;00m\n\u001b[32m    222\u001b[39m     msg = re.sub(\n\u001b[32m    223\u001b[39m         \u001b[33mr\u001b[39m\u001b[33m\"\u001b[39m\u001b[33mparameter of \u001b[39m\u001b[33m\\\u001b[39m\u001b[33mw+ must be\u001b[39m\u001b[33m\"\u001b[39m,\n\u001b[32m    224\u001b[39m         \u001b[33mf\u001b[39m\u001b[33m\"\u001b[39m\u001b[33mparameter of \u001b[39m\u001b[38;5;132;01m{\u001b[39;00mfunc.\u001b[34m__qualname__\u001b[39m\u001b[38;5;132;01m}\u001b[39;00m\u001b[33m must be\u001b[39m\u001b[33m\"\u001b[39m,\n\u001b[32m    225\u001b[39m         \u001b[38;5;28mstr\u001b[39m(e),\n\u001b[32m    226\u001b[39m     )\n",
      "\u001b[36mFile \u001b[39m\u001b[32m~/venvs/dsb_602/lib/python3.11/site-packages/sklearn/metrics/_classification.py:340\u001b[39m, in \u001b[36mconfusion_matrix\u001b[39m\u001b[34m(y_true, y_pred, labels, sample_weight, normalize)\u001b[39m\n\u001b[32m    257\u001b[39m \u001b[38;5;250m\u001b[39m\u001b[33;03m\"\"\"Compute confusion matrix to evaluate the accuracy of a classification.\u001b[39;00m\n\u001b[32m    258\u001b[39m \n\u001b[32m    259\u001b[39m \u001b[33;03mBy definition a confusion matrix :math:`C` is such that :math:`C_{i, j}`\u001b[39;00m\n\u001b[32m   (...)\u001b[39m\u001b[32m    337\u001b[39m \u001b[33;03m(np.int64(0), np.int64(2), np.int64(1), np.int64(1))\u001b[39;00m\n\u001b[32m    338\u001b[39m \u001b[33;03m\"\"\"\u001b[39;00m\n\u001b[32m    339\u001b[39m y_true, y_pred = attach_unique(y_true, y_pred)\n\u001b[32m--> \u001b[39m\u001b[32m340\u001b[39m y_type, y_true, y_pred = \u001b[43m_check_targets\u001b[49m\u001b[43m(\u001b[49m\u001b[43my_true\u001b[49m\u001b[43m,\u001b[49m\u001b[43m \u001b[49m\u001b[43my_pred\u001b[49m\u001b[43m)\u001b[49m\n\u001b[32m    341\u001b[39m \u001b[38;5;28;01mif\u001b[39;00m y_type \u001b[38;5;129;01mnot\u001b[39;00m \u001b[38;5;129;01min\u001b[39;00m (\u001b[33m\"\u001b[39m\u001b[33mbinary\u001b[39m\u001b[33m\"\u001b[39m, \u001b[33m\"\u001b[39m\u001b[33mmulticlass\u001b[39m\u001b[33m\"\u001b[39m):\n\u001b[32m    342\u001b[39m     \u001b[38;5;28;01mraise\u001b[39;00m \u001b[38;5;167;01mValueError\u001b[39;00m(\u001b[33m\"\u001b[39m\u001b[38;5;132;01m%s\u001b[39;00m\u001b[33m is not supported\u001b[39m\u001b[33m\"\u001b[39m % y_type)\n",
      "\u001b[36mFile \u001b[39m\u001b[32m~/venvs/dsb_602/lib/python3.11/site-packages/sklearn/metrics/_classification.py:107\u001b[39m, in \u001b[36m_check_targets\u001b[39m\u001b[34m(y_true, y_pred)\u001b[39m\n\u001b[32m    104\u001b[39m     y_type = {\u001b[33m\"\u001b[39m\u001b[33mmulticlass\u001b[39m\u001b[33m\"\u001b[39m}\n\u001b[32m    106\u001b[39m \u001b[38;5;28;01mif\u001b[39;00m \u001b[38;5;28mlen\u001b[39m(y_type) > \u001b[32m1\u001b[39m:\n\u001b[32m--> \u001b[39m\u001b[32m107\u001b[39m     \u001b[38;5;28;01mraise\u001b[39;00m \u001b[38;5;167;01mValueError\u001b[39;00m(\n\u001b[32m    108\u001b[39m         \u001b[33m\"\u001b[39m\u001b[33mClassification metrics can\u001b[39m\u001b[33m'\u001b[39m\u001b[33mt handle a mix of \u001b[39m\u001b[38;5;132;01m{0}\u001b[39;00m\u001b[33m and \u001b[39m\u001b[38;5;132;01m{1}\u001b[39;00m\u001b[33m targets\u001b[39m\u001b[33m\"\u001b[39m.format(\n\u001b[32m    109\u001b[39m             type_true, type_pred\n\u001b[32m    110\u001b[39m         )\n\u001b[32m    111\u001b[39m     )\n\u001b[32m    113\u001b[39m \u001b[38;5;66;03m# We can't have more than one value on y_type => The set is no more needed\u001b[39;00m\n\u001b[32m    114\u001b[39m y_type = y_type.pop()\n",
      "\u001b[31mValueError\u001b[39m: Classification metrics can't handle a mix of binary and continuous-multioutput targets"
     ]
    },
    {
     "data": {
      "image/png": "[encoded data removed]",
      "text/plain": [
       "<Figure size 640x480 with 1 Axes>"
      ]
     },
     "metadata": {},
     "output_type": "display_data"
    }
   ],
   "source": [
    "fig, ax = plt.subplots()\n",
    "\n",
    "ConfusionMatrixDisplay.from_predictions(y_test, preds1, display_labels=['legit', 'fraud'], ax=ax);\n",
    "ax.set_title('Confusion Matrix')\n",
    "\n",
    "fig.savefig('../images/cm_distilbert.png')"
   ]
  },
  {
   "cell_type": "code",
   "execution_count": null,
   "id": "41f90824-d535-49fc-8ac1-d2b344c050b3",
   "metadata": {},
   "outputs": [],
   "source": []
  }
 ],
 "metadata": {
  "kernelspec": {
   "display_name": "Python 3 (ipykernel)",
   "language": "python",
   "name": "python3"
  },
  "language_info": {
   "codemirror_mode": {
    "name": "ipython",
    "version": 3
   },
   "file_extension": ".py",
   "mimetype": "text/x-python",
   "name": "python",
   "nbconvert_exporter": "python",
   "pygments_lexer": "ipython3",
   "version": "3.11.9"
  }
 },
 "nbformat": 4,
 "nbformat_minor": 5
}
