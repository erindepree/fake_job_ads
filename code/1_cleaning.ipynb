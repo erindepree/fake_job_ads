{
 "cells": [
  {
   "cell_type": "markdown",
   "id": "1ffe73b8-c31a-44ec-b638-22ca0fbd6761",
   "metadata": {},
   "source": [
    "# Data Cleaning"
   ]
  },
  {
   "cell_type": "code",
   "execution_count": null,
   "id": "16eae464-8a3d-403e-9247-e48438f9a33e",
   "metadata": {},
   "outputs": [],
   "source": [
    "import re\n",
    "\n",
    "import pandas as pd"
   ]
  },
  {
   "cell_type": "markdown",
   "id": "36c17a63-27ed-4b30-8914-68e66453df95",
   "metadata": {},
   "source": [
    "Data set from [Kaggle](https://www.kaggle.com/datasets/shivamb/real-or-fake-fake-jobposting-prediction)"
   ]
  },
  {
   "cell_type": "code",
   "execution_count": 3,
   "id": "b54a992e-b0b1-4f15-8923-585ed1d23adc",
   "metadata": {},
   "outputs": [],
   "source": [
    "data_raw = pd.read_csv('../../data_fake_jobs/fake_job_postings.csv')"
   ]
  },
  {
   "cell_type": "code",
   "execution_count": 4,
   "id": "d3717ef8-f24e-495b-bb82-d6238bf80e08",
   "metadata": {},
   "outputs": [
    {
     "data": {
      "text/html": [
       "<div>\n",
       "<style scoped>\n",
       "    .dataframe tbody tr th:only-of-type {\n",
       "        vertical-align: middle;\n",
       "    }\n",
       "\n",
       "    .dataframe tbody tr th {\n",
       "        vertical-align: top;\n",
       "    }\n",
       "\n",
       "    .dataframe thead th {\n",
       "        text-align: right;\n",
       "    }\n",
       "</style>\n",
       "<table border=\"1\" class=\"dataframe\">\n",
       "  <thead>\n",
       "    <tr style=\"text-align: right;\">\n",
       "      <th></th>\n",
       "      <th>job_id</th>\n",
       "      <th>title</th>\n",
       "      <th>location</th>\n",
       "      <th>department</th>\n",
       "      <th>salary_range</th>\n",
       "      <th>company_profile</th>\n",
       "      <th>description</th>\n",
       "      <th>requirements</th>\n",
       "      <th>benefits</th>\n",
       "      <th>telecommuting</th>\n",
       "      <th>has_company_logo</th>\n",
       "      <th>has_questions</th>\n",
       "      <th>employment_type</th>\n",
       "      <th>required_experience</th>\n",
       "      <th>required_education</th>\n",
       "      <th>industry</th>\n",
       "      <th>function</th>\n",
       "      <th>fraudulent</th>\n",
       "    </tr>\n",
       "  </thead>\n",
       "  <tbody>\n",
       "    <tr>\n",
       "      <th>0</th>\n",
       "      <td>1</td>\n",
       "      <td>Marketing Intern</td>\n",
       "      <td>US, NY, New York</td>\n",
       "      <td>Marketing</td>\n",
       "      <td>NaN</td>\n",
       "      <td>We're Food52, and we've created a groundbreaki...</td>\n",
       "      <td>Food52, a fast-growing, James Beard Award-winn...</td>\n",
       "      <td>Experience with content management systems a m...</td>\n",
       "      <td>NaN</td>\n",
       "      <td>0</td>\n",
       "      <td>1</td>\n",
       "      <td>0</td>\n",
       "      <td>Other</td>\n",
       "      <td>Internship</td>\n",
       "      <td>NaN</td>\n",
       "      <td>NaN</td>\n",
       "      <td>Marketing</td>\n",
       "      <td>0</td>\n",
       "    </tr>\n",
       "    <tr>\n",
       "      <th>1</th>\n",
       "      <td>2</td>\n",
       "      <td>Customer Service - Cloud Video Production</td>\n",
       "      <td>NZ, , Auckland</td>\n",
       "      <td>Success</td>\n",
       "      <td>NaN</td>\n",
       "      <td>90 Seconds, the worlds Cloud Video Production ...</td>\n",
       "      <td>Organised - Focused - Vibrant - Awesome!Do you...</td>\n",
       "      <td>What we expect from you:Your key responsibilit...</td>\n",
       "      <td>What you will get from usThrough being part of...</td>\n",
       "      <td>0</td>\n",
       "      <td>1</td>\n",
       "      <td>0</td>\n",
       "      <td>Full-time</td>\n",
       "      <td>Not Applicable</td>\n",
       "      <td>NaN</td>\n",
       "      <td>Marketing and Advertising</td>\n",
       "      <td>Customer Service</td>\n",
       "      <td>0</td>\n",
       "    </tr>\n",
       "    <tr>\n",
       "      <th>2</th>\n",
       "      <td>3</td>\n",
       "      <td>Commissioning Machinery Assistant (CMA)</td>\n",
       "      <td>US, IA, Wever</td>\n",
       "      <td>NaN</td>\n",
       "      <td>NaN</td>\n",
       "      <td>Valor Services provides Workforce Solutions th...</td>\n",
       "      <td>Our client, located in Houston, is actively se...</td>\n",
       "      <td>Implement pre-commissioning and commissioning ...</td>\n",
       "      <td>NaN</td>\n",
       "      <td>0</td>\n",
       "      <td>1</td>\n",
       "      <td>0</td>\n",
       "      <td>NaN</td>\n",
       "      <td>NaN</td>\n",
       "      <td>NaN</td>\n",
       "      <td>NaN</td>\n",
       "      <td>NaN</td>\n",
       "      <td>0</td>\n",
       "    </tr>\n",
       "    <tr>\n",
       "      <th>3</th>\n",
       "      <td>4</td>\n",
       "      <td>Account Executive - Washington DC</td>\n",
       "      <td>US, DC, Washington</td>\n",
       "      <td>Sales</td>\n",
       "      <td>NaN</td>\n",
       "      <td>Our passion for improving quality of life thro...</td>\n",
       "      <td>THE COMPANY: ESRI – Environmental Systems Rese...</td>\n",
       "      <td>EDUCATION: Bachelor’s or Master’s in GIS, busi...</td>\n",
       "      <td>Our culture is anything but corporate—we have ...</td>\n",
       "      <td>0</td>\n",
       "      <td>1</td>\n",
       "      <td>0</td>\n",
       "      <td>Full-time</td>\n",
       "      <td>Mid-Senior level</td>\n",
       "      <td>Bachelor's Degree</td>\n",
       "      <td>Computer Software</td>\n",
       "      <td>Sales</td>\n",
       "      <td>0</td>\n",
       "    </tr>\n",
       "    <tr>\n",
       "      <th>4</th>\n",
       "      <td>5</td>\n",
       "      <td>Bill Review Manager</td>\n",
       "      <td>US, FL, Fort Worth</td>\n",
       "      <td>NaN</td>\n",
       "      <td>NaN</td>\n",
       "      <td>SpotSource Solutions LLC is a Global Human Cap...</td>\n",
       "      <td>JOB TITLE: Itemization Review ManagerLOCATION:...</td>\n",
       "      <td>QUALIFICATIONS:RN license in the State of Texa...</td>\n",
       "      <td>Full Benefits Offered</td>\n",
       "      <td>0</td>\n",
       "      <td>1</td>\n",
       "      <td>1</td>\n",
       "      <td>Full-time</td>\n",
       "      <td>Mid-Senior level</td>\n",
       "      <td>Bachelor's Degree</td>\n",
       "      <td>Hospital &amp; Health Care</td>\n",
       "      <td>Health Care Provider</td>\n",
       "      <td>0</td>\n",
       "    </tr>\n",
       "  </tbody>\n",
       "</table>\n",
       "</div>"
      ],
      "text/plain": [
       "   job_id                                      title            location  \\\n",
       "0       1                           Marketing Intern    US, NY, New York   \n",
       "1       2  Customer Service - Cloud Video Production      NZ, , Auckland   \n",
       "2       3    Commissioning Machinery Assistant (CMA)       US, IA, Wever   \n",
       "3       4          Account Executive - Washington DC  US, DC, Washington   \n",
       "4       5                        Bill Review Manager  US, FL, Fort Worth   \n",
       "\n",
       "  department salary_range                                    company_profile  \\\n",
       "0  Marketing          NaN  We're Food52, and we've created a groundbreaki...   \n",
       "1    Success          NaN  90 Seconds, the worlds Cloud Video Production ...   \n",
       "2        NaN          NaN  Valor Services provides Workforce Solutions th...   \n",
       "3      Sales          NaN  Our passion for improving quality of life thro...   \n",
       "4        NaN          NaN  SpotSource Solutions LLC is a Global Human Cap...   \n",
       "\n",
       "                                         description  \\\n",
       "0  Food52, a fast-growing, James Beard Award-winn...   \n",
       "1  Organised - Focused - Vibrant - Awesome!Do you...   \n",
       "2  Our client, located in Houston, is actively se...   \n",
       "3  THE COMPANY: ESRI – Environmental Systems Rese...   \n",
       "4  JOB TITLE: Itemization Review ManagerLOCATION:...   \n",
       "\n",
       "                                        requirements  \\\n",
       "0  Experience with content management systems a m...   \n",
       "1  What we expect from you:Your key responsibilit...   \n",
       "2  Implement pre-commissioning and commissioning ...   \n",
       "3  EDUCATION: Bachelor’s or Master’s in GIS, busi...   \n",
       "4  QUALIFICATIONS:RN license in the State of Texa...   \n",
       "\n",
       "                                            benefits  telecommuting  \\\n",
       "0                                                NaN              0   \n",
       "1  What you will get from usThrough being part of...              0   \n",
       "2                                                NaN              0   \n",
       "3  Our culture is anything but corporate—we have ...              0   \n",
       "4                              Full Benefits Offered              0   \n",
       "\n",
       "   has_company_logo  has_questions employment_type required_experience  \\\n",
       "0                 1              0           Other          Internship   \n",
       "1                 1              0       Full-time      Not Applicable   \n",
       "2                 1              0             NaN                 NaN   \n",
       "3                 1              0       Full-time    Mid-Senior level   \n",
       "4                 1              1       Full-time    Mid-Senior level   \n",
       "\n",
       "  required_education                   industry              function  \\\n",
       "0                NaN                        NaN             Marketing   \n",
       "1                NaN  Marketing and Advertising      Customer Service   \n",
       "2                NaN                        NaN                   NaN   \n",
       "3  Bachelor's Degree          Computer Software                 Sales   \n",
       "4  Bachelor's Degree     Hospital & Health Care  Health Care Provider   \n",
       "\n",
       "   fraudulent  \n",
       "0           0  \n",
       "1           0  \n",
       "2           0  \n",
       "3           0  \n",
       "4           0  "
      ]
     },
     "execution_count": 4,
     "metadata": {},
     "output_type": "execute_result"
    }
   ],
   "source": [
    "data_raw.head()"
   ]
  },
  {
   "cell_type": "code",
   "execution_count": 5,
   "id": "b930d371-02eb-4f0d-a3c1-0f206c412ece",
   "metadata": {},
   "outputs": [
    {
     "name": "stdout",
     "output_type": "stream",
     "text": [
      "<class 'pandas.core.frame.DataFrame'>\n",
      "RangeIndex: 17880 entries, 0 to 17879\n",
      "Data columns (total 18 columns):\n",
      " #   Column               Non-Null Count  Dtype \n",
      "---  ------               --------------  ----- \n",
      " 0   job_id               17880 non-null  int64 \n",
      " 1   title                17880 non-null  object\n",
      " 2   location             17534 non-null  object\n",
      " 3   department           6333 non-null   object\n",
      " 4   salary_range         2868 non-null   object\n",
      " 5   company_profile      14572 non-null  object\n",
      " 6   description          17879 non-null  object\n",
      " 7   requirements         15184 non-null  object\n",
      " 8   benefits             10668 non-null  object\n",
      " 9   telecommuting        17880 non-null  int64 \n",
      " 10  has_company_logo     17880 non-null  int64 \n",
      " 11  has_questions        17880 non-null  int64 \n",
      " 12  employment_type      14409 non-null  object\n",
      " 13  required_experience  10830 non-null  object\n",
      " 14  required_education   9775 non-null   object\n",
      " 15  industry             12977 non-null  object\n",
      " 16  function             11425 non-null  object\n",
      " 17  fraudulent           17880 non-null  int64 \n",
      "dtypes: int64(5), object(13)\n",
      "memory usage: 2.5+ MB\n"
     ]
    }
   ],
   "source": [
    "data_raw.info()"
   ]
  },
  {
   "cell_type": "code",
   "execution_count": 6,
   "id": "fb33feb1-8c77-40c1-961c-b9ff5d1824ca",
   "metadata": {},
   "outputs": [
    {
     "name": "stdout",
     "output_type": "stream",
     "text": [
      "Missing Values in Each Column:\n"
     ]
    },
    {
     "data": {
      "text/plain": [
       "job_id                     0\n",
       "title                      0\n",
       "location                 346\n",
       "department             11547\n",
       "salary_range           15012\n",
       "company_profile         3308\n",
       "description                1\n",
       "requirements            2696\n",
       "benefits                7212\n",
       "telecommuting              0\n",
       "has_company_logo           0\n",
       "has_questions              0\n",
       "employment_type         3471\n",
       "required_experience     7050\n",
       "required_education      8105\n",
       "industry                4903\n",
       "function                6455\n",
       "fraudulent                 0\n",
       "dtype: int64"
      ]
     },
     "execution_count": 6,
     "metadata": {},
     "output_type": "execute_result"
    }
   ],
   "source": [
    "print(f'Missing Values in Each Column:')\n",
    "data_raw.isnull().sum()"
   ]
  },
  {
   "cell_type": "code",
   "execution_count": 7,
   "id": "64a4be35-62e7-4112-a5d6-c7b43fb8d517",
   "metadata": {},
   "outputs": [
    {
     "data": {
      "text/html": [
       "<div>\n",
       "<style scoped>\n",
       "    .dataframe tbody tr th:only-of-type {\n",
       "        vertical-align: middle;\n",
       "    }\n",
       "\n",
       "    .dataframe tbody tr th {\n",
       "        vertical-align: top;\n",
       "    }\n",
       "\n",
       "    .dataframe thead th {\n",
       "        text-align: right;\n",
       "    }\n",
       "</style>\n",
       "<table border=\"1\" class=\"dataframe\">\n",
       "  <thead>\n",
       "    <tr style=\"text-align: right;\">\n",
       "      <th></th>\n",
       "      <th>job_id</th>\n",
       "      <th>title</th>\n",
       "      <th>location</th>\n",
       "      <th>department</th>\n",
       "      <th>salary_range</th>\n",
       "      <th>company_profile</th>\n",
       "      <th>description</th>\n",
       "      <th>requirements</th>\n",
       "      <th>benefits</th>\n",
       "      <th>telecommuting</th>\n",
       "      <th>has_company_logo</th>\n",
       "      <th>has_questions</th>\n",
       "      <th>employment_type</th>\n",
       "      <th>required_experience</th>\n",
       "      <th>required_education</th>\n",
       "      <th>industry</th>\n",
       "      <th>function</th>\n",
       "      <th>fraudulent</th>\n",
       "    </tr>\n",
       "  </thead>\n",
       "  <tbody>\n",
       "  </tbody>\n",
       "</table>\n",
       "</div>"
      ],
      "text/plain": [
       "Empty DataFrame\n",
       "Columns: [job_id, title, location, department, salary_range, company_profile, description, requirements, benefits, telecommuting, has_company_logo, has_questions, employment_type, required_experience, required_education, industry, function, fraudulent]\n",
       "Index: []"
      ]
     },
     "execution_count": 7,
     "metadata": {},
     "output_type": "execute_result"
    }
   ],
   "source": [
    "data_raw[data_raw['company_profile'].isnull() + data_raw['description'].isnull() + data_raw['requirements'].isnull() + data_raw['benefits'].isnull() >=2]"
   ]
  },
  {
   "cell_type": "code",
   "execution_count": 8,
   "id": "2ea3faa8-54b1-4347-a0b9-48e1e369365a",
   "metadata": {},
   "outputs": [
    {
     "data": {
      "text/html": [
       "<div>\n",
       "<style scoped>\n",
       "    .dataframe tbody tr th:only-of-type {\n",
       "        vertical-align: middle;\n",
       "    }\n",
       "\n",
       "    .dataframe tbody tr th {\n",
       "        vertical-align: top;\n",
       "    }\n",
       "\n",
       "    .dataframe thead th {\n",
       "        text-align: right;\n",
       "    }\n",
       "</style>\n",
       "<table border=\"1\" class=\"dataframe\">\n",
       "  <thead>\n",
       "    <tr style=\"text-align: right;\">\n",
       "      <th></th>\n",
       "      <th>job_id</th>\n",
       "      <th>title</th>\n",
       "      <th>location</th>\n",
       "      <th>department</th>\n",
       "      <th>salary_range</th>\n",
       "      <th>company_profile</th>\n",
       "      <th>description</th>\n",
       "      <th>requirements</th>\n",
       "      <th>benefits</th>\n",
       "      <th>telecommuting</th>\n",
       "      <th>has_company_logo</th>\n",
       "      <th>has_questions</th>\n",
       "      <th>employment_type</th>\n",
       "      <th>required_experience</th>\n",
       "      <th>required_education</th>\n",
       "      <th>industry</th>\n",
       "      <th>function</th>\n",
       "      <th>fraudulent</th>\n",
       "    </tr>\n",
       "  </thead>\n",
       "  <tbody>\n",
       "    <tr>\n",
       "      <th>0</th>\n",
       "      <td>1</td>\n",
       "      <td>Marketing Intern</td>\n",
       "      <td>US, NY, New York</td>\n",
       "      <td>Marketing</td>\n",
       "      <td>NaN</td>\n",
       "      <td>We're Food52, and we've created a groundbreaki...</td>\n",
       "      <td>Food52, a fast-growing, James Beard Award-winn...</td>\n",
       "      <td>Experience with content management systems a m...</td>\n",
       "      <td>NaN</td>\n",
       "      <td>0</td>\n",
       "      <td>1</td>\n",
       "      <td>0</td>\n",
       "      <td>Other</td>\n",
       "      <td>Internship</td>\n",
       "      <td>NaN</td>\n",
       "      <td>NaN</td>\n",
       "      <td>Marketing</td>\n",
       "      <td>0</td>\n",
       "    </tr>\n",
       "    <tr>\n",
       "      <th>2</th>\n",
       "      <td>3</td>\n",
       "      <td>Commissioning Machinery Assistant (CMA)</td>\n",
       "      <td>US, IA, Wever</td>\n",
       "      <td>NaN</td>\n",
       "      <td>NaN</td>\n",
       "      <td>Valor Services provides Workforce Solutions th...</td>\n",
       "      <td>Our client, located in Houston, is actively se...</td>\n",
       "      <td>Implement pre-commissioning and commissioning ...</td>\n",
       "      <td>NaN</td>\n",
       "      <td>0</td>\n",
       "      <td>1</td>\n",
       "      <td>0</td>\n",
       "      <td>NaN</td>\n",
       "      <td>NaN</td>\n",
       "      <td>NaN</td>\n",
       "      <td>NaN</td>\n",
       "      <td>NaN</td>\n",
       "      <td>0</td>\n",
       "    </tr>\n",
       "    <tr>\n",
       "      <th>5</th>\n",
       "      <td>6</td>\n",
       "      <td>Accounting Clerk</td>\n",
       "      <td>US, MD,</td>\n",
       "      <td>NaN</td>\n",
       "      <td>NaN</td>\n",
       "      <td>NaN</td>\n",
       "      <td>Job OverviewApex is an environmental consultin...</td>\n",
       "      <td>NaN</td>\n",
       "      <td>NaN</td>\n",
       "      <td>0</td>\n",
       "      <td>0</td>\n",
       "      <td>0</td>\n",
       "      <td>NaN</td>\n",
       "      <td>NaN</td>\n",
       "      <td>NaN</td>\n",
       "      <td>NaN</td>\n",
       "      <td>NaN</td>\n",
       "      <td>0</td>\n",
       "    </tr>\n",
       "    <tr>\n",
       "      <th>8</th>\n",
       "      <td>9</td>\n",
       "      <td>HP BSM SME</td>\n",
       "      <td>US, FL, Pensacola</td>\n",
       "      <td>NaN</td>\n",
       "      <td>NaN</td>\n",
       "      <td>Solutions3 is a woman-owned small business who...</td>\n",
       "      <td>Implementation/Configuration/Testing/Training ...</td>\n",
       "      <td>MUST BE A US CITIZEN.An active TS/SCI clearanc...</td>\n",
       "      <td>NaN</td>\n",
       "      <td>0</td>\n",
       "      <td>1</td>\n",
       "      <td>1</td>\n",
       "      <td>Full-time</td>\n",
       "      <td>Associate</td>\n",
       "      <td>NaN</td>\n",
       "      <td>Information Technology and Services</td>\n",
       "      <td>NaN</td>\n",
       "      <td>0</td>\n",
       "    </tr>\n",
       "    <tr>\n",
       "      <th>9</th>\n",
       "      <td>10</td>\n",
       "      <td>Customer Service Associate - Part Time</td>\n",
       "      <td>US, AZ, Phoenix</td>\n",
       "      <td>NaN</td>\n",
       "      <td>NaN</td>\n",
       "      <td>Novitex Enterprise Solutions, formerly Pitney ...</td>\n",
       "      <td>The Customer Service Associate will be based i...</td>\n",
       "      <td>Minimum Requirements:Minimum of 6 months custo...</td>\n",
       "      <td>NaN</td>\n",
       "      <td>0</td>\n",
       "      <td>1</td>\n",
       "      <td>0</td>\n",
       "      <td>Part-time</td>\n",
       "      <td>Entry level</td>\n",
       "      <td>High School or equivalent</td>\n",
       "      <td>Financial Services</td>\n",
       "      <td>Customer Service</td>\n",
       "      <td>0</td>\n",
       "    </tr>\n",
       "    <tr>\n",
       "      <th>...</th>\n",
       "      <td>...</td>\n",
       "      <td>...</td>\n",
       "      <td>...</td>\n",
       "      <td>...</td>\n",
       "      <td>...</td>\n",
       "      <td>...</td>\n",
       "      <td>...</td>\n",
       "      <td>...</td>\n",
       "      <td>...</td>\n",
       "      <td>...</td>\n",
       "      <td>...</td>\n",
       "      <td>...</td>\n",
       "      <td>...</td>\n",
       "      <td>...</td>\n",
       "      <td>...</td>\n",
       "      <td>...</td>\n",
       "      <td>...</td>\n",
       "      <td>...</td>\n",
       "    </tr>\n",
       "    <tr>\n",
       "      <th>17873</th>\n",
       "      <td>17874</td>\n",
       "      <td>Recruiting Coordinator</td>\n",
       "      <td>US, NC, Charlotte</td>\n",
       "      <td>NaN</td>\n",
       "      <td>NaN</td>\n",
       "      <td>NaN</td>\n",
       "      <td>RESPONSIBILITIES:Will facilitate the recruitin...</td>\n",
       "      <td>REQUIRED SKILLS:Associates Degree or a combina...</td>\n",
       "      <td>NaN</td>\n",
       "      <td>0</td>\n",
       "      <td>1</td>\n",
       "      <td>0</td>\n",
       "      <td>Contract</td>\n",
       "      <td>NaN</td>\n",
       "      <td>NaN</td>\n",
       "      <td>Utilities</td>\n",
       "      <td>NaN</td>\n",
       "      <td>0</td>\n",
       "    </tr>\n",
       "    <tr>\n",
       "      <th>17874</th>\n",
       "      <td>17875</td>\n",
       "      <td>JavaScript Developer</td>\n",
       "      <td>US, ,</td>\n",
       "      <td>NaN</td>\n",
       "      <td>80000-100000</td>\n",
       "      <td>NaN</td>\n",
       "      <td>Sr, JavaScript Developer Experience : 4-10 yea...</td>\n",
       "      <td>NaN</td>\n",
       "      <td>NaN</td>\n",
       "      <td>0</td>\n",
       "      <td>0</td>\n",
       "      <td>0</td>\n",
       "      <td>Full-time</td>\n",
       "      <td>Mid-Senior level</td>\n",
       "      <td>Bachelor's Degree</td>\n",
       "      <td>Computer Software</td>\n",
       "      <td>Information Technology</td>\n",
       "      <td>0</td>\n",
       "    </tr>\n",
       "    <tr>\n",
       "      <th>17877</th>\n",
       "      <td>17878</td>\n",
       "      <td>Project Cost Control Staff Engineer - Cost Con...</td>\n",
       "      <td>US, TX, Houston</td>\n",
       "      <td>NaN</td>\n",
       "      <td>NaN</td>\n",
       "      <td>We Provide Full Time Permanent Positions for m...</td>\n",
       "      <td>Experienced Project Cost Control Staff Enginee...</td>\n",
       "      <td>At least 12 years professional experience.Abil...</td>\n",
       "      <td>NaN</td>\n",
       "      <td>0</td>\n",
       "      <td>0</td>\n",
       "      <td>0</td>\n",
       "      <td>Full-time</td>\n",
       "      <td>NaN</td>\n",
       "      <td>NaN</td>\n",
       "      <td>NaN</td>\n",
       "      <td>NaN</td>\n",
       "      <td>0</td>\n",
       "    </tr>\n",
       "    <tr>\n",
       "      <th>17878</th>\n",
       "      <td>17879</td>\n",
       "      <td>Graphic Designer</td>\n",
       "      <td>NG, LA, Lagos</td>\n",
       "      <td>NaN</td>\n",
       "      <td>NaN</td>\n",
       "      <td>NaN</td>\n",
       "      <td>Nemsia Studios is looking for an experienced v...</td>\n",
       "      <td>1. Must be fluent in the latest versions of Co...</td>\n",
       "      <td>Competitive salary (compensation will be based...</td>\n",
       "      <td>0</td>\n",
       "      <td>0</td>\n",
       "      <td>1</td>\n",
       "      <td>Contract</td>\n",
       "      <td>Not Applicable</td>\n",
       "      <td>Professional</td>\n",
       "      <td>Graphic Design</td>\n",
       "      <td>Design</td>\n",
       "      <td>0</td>\n",
       "    </tr>\n",
       "    <tr>\n",
       "      <th>17879</th>\n",
       "      <td>17880</td>\n",
       "      <td>Web Application Developers</td>\n",
       "      <td>NZ, N, Wellington</td>\n",
       "      <td>Engineering</td>\n",
       "      <td>NaN</td>\n",
       "      <td>Vend is looking for some awesome new talent to...</td>\n",
       "      <td>Who are we?Vend is an award winning web based ...</td>\n",
       "      <td>We want to hear from you if:You have an in-dep...</td>\n",
       "      <td>NaN</td>\n",
       "      <td>0</td>\n",
       "      <td>1</td>\n",
       "      <td>1</td>\n",
       "      <td>Full-time</td>\n",
       "      <td>Mid-Senior level</td>\n",
       "      <td>NaN</td>\n",
       "      <td>Computer Software</td>\n",
       "      <td>Engineering</td>\n",
       "      <td>0</td>\n",
       "    </tr>\n",
       "  </tbody>\n",
       "</table>\n",
       "<p>9035 rows × 18 columns</p>\n",
       "</div>"
      ],
      "text/plain": [
       "       job_id                                              title  \\\n",
       "0           1                                   Marketing Intern   \n",
       "2           3            Commissioning Machinery Assistant (CMA)   \n",
       "5           6                                   Accounting Clerk   \n",
       "8           9                                         HP BSM SME   \n",
       "9          10            Customer Service Associate - Part Time    \n",
       "...       ...                                                ...   \n",
       "17873   17874                             Recruiting Coordinator   \n",
       "17874   17875                               JavaScript Developer   \n",
       "17877   17878  Project Cost Control Staff Engineer - Cost Con...   \n",
       "17878   17879                                   Graphic Designer   \n",
       "17879   17880                         Web Application Developers   \n",
       "\n",
       "                location   department  salary_range  \\\n",
       "0       US, NY, New York    Marketing           NaN   \n",
       "2          US, IA, Wever          NaN           NaN   \n",
       "5               US, MD,           NaN           NaN   \n",
       "8      US, FL, Pensacola          NaN           NaN   \n",
       "9        US, AZ, Phoenix          NaN           NaN   \n",
       "...                  ...          ...           ...   \n",
       "17873  US, NC, Charlotte          NaN           NaN   \n",
       "17874             US, ,           NaN  80000-100000   \n",
       "17877    US, TX, Houston          NaN           NaN   \n",
       "17878      NG, LA, Lagos          NaN           NaN   \n",
       "17879  NZ, N, Wellington  Engineering           NaN   \n",
       "\n",
       "                                         company_profile  \\\n",
       "0      We're Food52, and we've created a groundbreaki...   \n",
       "2      Valor Services provides Workforce Solutions th...   \n",
       "5                                                    NaN   \n",
       "8      Solutions3 is a woman-owned small business who...   \n",
       "9      Novitex Enterprise Solutions, formerly Pitney ...   \n",
       "...                                                  ...   \n",
       "17873                                                NaN   \n",
       "17874                                                NaN   \n",
       "17877  We Provide Full Time Permanent Positions for m...   \n",
       "17878                                                NaN   \n",
       "17879  Vend is looking for some awesome new talent to...   \n",
       "\n",
       "                                             description  \\\n",
       "0      Food52, a fast-growing, James Beard Award-winn...   \n",
       "2      Our client, located in Houston, is actively se...   \n",
       "5      Job OverviewApex is an environmental consultin...   \n",
       "8      Implementation/Configuration/Testing/Training ...   \n",
       "9      The Customer Service Associate will be based i...   \n",
       "...                                                  ...   \n",
       "17873  RESPONSIBILITIES:Will facilitate the recruitin...   \n",
       "17874  Sr, JavaScript Developer Experience : 4-10 yea...   \n",
       "17877  Experienced Project Cost Control Staff Enginee...   \n",
       "17878  Nemsia Studios is looking for an experienced v...   \n",
       "17879  Who are we?Vend is an award winning web based ...   \n",
       "\n",
       "                                            requirements  \\\n",
       "0      Experience with content management systems a m...   \n",
       "2      Implement pre-commissioning and commissioning ...   \n",
       "5                                                    NaN   \n",
       "8      MUST BE A US CITIZEN.An active TS/SCI clearanc...   \n",
       "9      Minimum Requirements:Minimum of 6 months custo...   \n",
       "...                                                  ...   \n",
       "17873  REQUIRED SKILLS:Associates Degree or a combina...   \n",
       "17874                                                NaN   \n",
       "17877  At least 12 years professional experience.Abil...   \n",
       "17878  1. Must be fluent in the latest versions of Co...   \n",
       "17879  We want to hear from you if:You have an in-dep...   \n",
       "\n",
       "                                                benefits  telecommuting  \\\n",
       "0                                                    NaN              0   \n",
       "2                                                    NaN              0   \n",
       "5                                                    NaN              0   \n",
       "8                                                    NaN              0   \n",
       "9                                                    NaN              0   \n",
       "...                                                  ...            ...   \n",
       "17873                                                NaN              0   \n",
       "17874                                                NaN              0   \n",
       "17877                                                NaN              0   \n",
       "17878  Competitive salary (compensation will be based...              0   \n",
       "17879                                                NaN              0   \n",
       "\n",
       "       has_company_logo  has_questions employment_type required_experience  \\\n",
       "0                     1              0           Other          Internship   \n",
       "2                     1              0             NaN                 NaN   \n",
       "5                     0              0             NaN                 NaN   \n",
       "8                     1              1       Full-time           Associate   \n",
       "9                     1              0       Part-time         Entry level   \n",
       "...                 ...            ...             ...                 ...   \n",
       "17873                 1              0        Contract                 NaN   \n",
       "17874                 0              0       Full-time    Mid-Senior level   \n",
       "17877                 0              0       Full-time                 NaN   \n",
       "17878                 0              1        Contract      Not Applicable   \n",
       "17879                 1              1       Full-time    Mid-Senior level   \n",
       "\n",
       "              required_education                             industry  \\\n",
       "0                            NaN                                  NaN   \n",
       "2                            NaN                                  NaN   \n",
       "5                            NaN                                  NaN   \n",
       "8                            NaN  Information Technology and Services   \n",
       "9      High School or equivalent                   Financial Services   \n",
       "...                          ...                                  ...   \n",
       "17873                        NaN                            Utilities   \n",
       "17874          Bachelor's Degree                    Computer Software   \n",
       "17877                        NaN                                  NaN   \n",
       "17878               Professional                       Graphic Design   \n",
       "17879                        NaN                    Computer Software   \n",
       "\n",
       "                     function  fraudulent  \n",
       "0                   Marketing           0  \n",
       "2                         NaN           0  \n",
       "5                         NaN           0  \n",
       "8                         NaN           0  \n",
       "9            Customer Service           0  \n",
       "...                       ...         ...  \n",
       "17873                     NaN           0  \n",
       "17874  Information Technology           0  \n",
       "17877                     NaN           0  \n",
       "17878                  Design           0  \n",
       "17879             Engineering           0  \n",
       "\n",
       "[9035 rows x 18 columns]"
      ]
     },
     "execution_count": 8,
     "metadata": {},
     "output_type": "execute_result"
    }
   ],
   "source": [
    "data_raw[data_raw['company_profile'].isnull() + data_raw['description'].isnull() \n",
    "+ data_raw['requirements'].isnull() + data_raw['benefits'].isnull() >=1]"
   ]
  },
  {
   "cell_type": "markdown",
   "id": "919c91b1-4155-4f42-ad21-de5f655caa85",
   "metadata": {},
   "source": [
    "Every position has at least one out of four major text fields (`company_profile`, `description`, `requirements`, and `benefits`).  This means that they probably entered the wrong text in the wrong fields (easy to do).  So I'm going to combine all three into a single text field.  I'm also going to remove websites, absent spaces after '.' and such."
   ]
  },
  {
   "cell_type": "code",
   "execution_count": 9,
   "id": "3151b787-6956-4b9a-ac27-808c01f147cc",
   "metadata": {},
   "outputs": [],
   "source": [
    "def clean_text(text):\n",
    "    return re.sub(r\"&amp;\", \"and\", \n",
    "            re.sub(r\"[#][A-Z]+.*[#]\", \"\", \n",
    "                     re.sub(r\"[|]\", \"\", \n",
    "                            re.sub(r\"[.]\", '. ', \n",
    "                                   re.sub(r\"http:\\/\\/\\S*\",' ', \n",
    "                                          re.sub(\"\\xa0\",' ', text)\n",
    "                                         )\n",
    "                                  )\n",
    "                           )\n",
    "                  )\n",
    "                    ).strip()"
   ]
  },
  {
   "cell_type": "code",
   "execution_count": 10,
   "id": "33e02914-0dd9-411e-b479-048f60d9daa7",
   "metadata": {},
   "outputs": [],
   "source": [
    "# first replace the NAN with empty strings to make this combination easier:\n",
    "data_text = data_raw[['company_profile', 'description', 'requirements', 'benefits']].fillna('', axis=1)\n",
    "data_text['job_ad'] = data_text.apply(\n",
    "    lambda row: clean_text(row['company_profile'] + row['description'] + row['requirements'] + row['benefits']), \n",
    "    axis=1\n",
    ")"
   ]
  },
  {
   "cell_type": "code",
   "execution_count": 11,
   "id": "153d0029-1677-4c18-bec7-24fbb4564686",
   "metadata": {},
   "outputs": [],
   "source": [
    "data = pd.merge(\n",
    "    left= data_raw.drop(columns=['company_profile', 'description', 'requirements', 'benefits']), \n",
    "    right= data_text[['job_ad']], \n",
    "    left_index=True, \n",
    "    right_index=True\n",
    ")"
   ]
  },
  {
   "cell_type": "code",
   "execution_count": 12,
   "id": "65d41c73-657e-4db8-8a80-a1babb505699",
   "metadata": {},
   "outputs": [
    {
     "data": {
      "text/html": [
       "<div>\n",
       "<style scoped>\n",
       "    .dataframe tbody tr th:only-of-type {\n",
       "        vertical-align: middle;\n",
       "    }\n",
       "\n",
       "    .dataframe tbody tr th {\n",
       "        vertical-align: top;\n",
       "    }\n",
       "\n",
       "    .dataframe thead th {\n",
       "        text-align: right;\n",
       "    }\n",
       "</style>\n",
       "<table border=\"1\" class=\"dataframe\">\n",
       "  <thead>\n",
       "    <tr style=\"text-align: right;\">\n",
       "      <th></th>\n",
       "      <th>job_id</th>\n",
       "      <th>title</th>\n",
       "      <th>location</th>\n",
       "      <th>department</th>\n",
       "      <th>salary_range</th>\n",
       "      <th>telecommuting</th>\n",
       "      <th>has_company_logo</th>\n",
       "      <th>has_questions</th>\n",
       "      <th>employment_type</th>\n",
       "      <th>required_experience</th>\n",
       "      <th>required_education</th>\n",
       "      <th>industry</th>\n",
       "      <th>function</th>\n",
       "      <th>fraudulent</th>\n",
       "      <th>job_ad</th>\n",
       "    </tr>\n",
       "  </thead>\n",
       "  <tbody>\n",
       "    <tr>\n",
       "      <th>0</th>\n",
       "      <td>1</td>\n",
       "      <td>Marketing Intern</td>\n",
       "      <td>US, NY, New York</td>\n",
       "      <td>Marketing</td>\n",
       "      <td>NaN</td>\n",
       "      <td>0</td>\n",
       "      <td>1</td>\n",
       "      <td>0</td>\n",
       "      <td>Other</td>\n",
       "      <td>Internship</td>\n",
       "      <td>NaN</td>\n",
       "      <td>NaN</td>\n",
       "      <td>Marketing</td>\n",
       "      <td>0</td>\n",
       "      <td>We're Food52, and we've created a groundbreaki...</td>\n",
       "    </tr>\n",
       "    <tr>\n",
       "      <th>1</th>\n",
       "      <td>2</td>\n",
       "      <td>Customer Service - Cloud Video Production</td>\n",
       "      <td>NZ, , Auckland</td>\n",
       "      <td>Success</td>\n",
       "      <td>NaN</td>\n",
       "      <td>0</td>\n",
       "      <td>1</td>\n",
       "      <td>0</td>\n",
       "      <td>Full-time</td>\n",
       "      <td>Not Applicable</td>\n",
       "      <td>NaN</td>\n",
       "      <td>Marketing and Advertising</td>\n",
       "      <td>Customer Service</td>\n",
       "      <td>0</td>\n",
       "      <td>90 Seconds, the worlds Cloud Video Production ...</td>\n",
       "    </tr>\n",
       "    <tr>\n",
       "      <th>2</th>\n",
       "      <td>3</td>\n",
       "      <td>Commissioning Machinery Assistant (CMA)</td>\n",
       "      <td>US, IA, Wever</td>\n",
       "      <td>NaN</td>\n",
       "      <td>NaN</td>\n",
       "      <td>0</td>\n",
       "      <td>1</td>\n",
       "      <td>0</td>\n",
       "      <td>NaN</td>\n",
       "      <td>NaN</td>\n",
       "      <td>NaN</td>\n",
       "      <td>NaN</td>\n",
       "      <td>NaN</td>\n",
       "      <td>0</td>\n",
       "      <td>Valor Services provides Workforce Solutions th...</td>\n",
       "    </tr>\n",
       "    <tr>\n",
       "      <th>3</th>\n",
       "      <td>4</td>\n",
       "      <td>Account Executive - Washington DC</td>\n",
       "      <td>US, DC, Washington</td>\n",
       "      <td>Sales</td>\n",
       "      <td>NaN</td>\n",
       "      <td>0</td>\n",
       "      <td>1</td>\n",
       "      <td>0</td>\n",
       "      <td>Full-time</td>\n",
       "      <td>Mid-Senior level</td>\n",
       "      <td>Bachelor's Degree</td>\n",
       "      <td>Computer Software</td>\n",
       "      <td>Sales</td>\n",
       "      <td>0</td>\n",
       "      <td>Our passion for improving quality of life thro...</td>\n",
       "    </tr>\n",
       "    <tr>\n",
       "      <th>4</th>\n",
       "      <td>5</td>\n",
       "      <td>Bill Review Manager</td>\n",
       "      <td>US, FL, Fort Worth</td>\n",
       "      <td>NaN</td>\n",
       "      <td>NaN</td>\n",
       "      <td>0</td>\n",
       "      <td>1</td>\n",
       "      <td>1</td>\n",
       "      <td>Full-time</td>\n",
       "      <td>Mid-Senior level</td>\n",
       "      <td>Bachelor's Degree</td>\n",
       "      <td>Hospital &amp; Health Care</td>\n",
       "      <td>Health Care Provider</td>\n",
       "      <td>0</td>\n",
       "      <td>SpotSource Solutions LLC is a Global Human Cap...</td>\n",
       "    </tr>\n",
       "  </tbody>\n",
       "</table>\n",
       "</div>"
      ],
      "text/plain": [
       "   job_id                                      title            location  \\\n",
       "0       1                           Marketing Intern    US, NY, New York   \n",
       "1       2  Customer Service - Cloud Video Production      NZ, , Auckland   \n",
       "2       3    Commissioning Machinery Assistant (CMA)       US, IA, Wever   \n",
       "3       4          Account Executive - Washington DC  US, DC, Washington   \n",
       "4       5                        Bill Review Manager  US, FL, Fort Worth   \n",
       "\n",
       "  department salary_range  telecommuting  has_company_logo  has_questions  \\\n",
       "0  Marketing          NaN              0                 1              0   \n",
       "1    Success          NaN              0                 1              0   \n",
       "2        NaN          NaN              0                 1              0   \n",
       "3      Sales          NaN              0                 1              0   \n",
       "4        NaN          NaN              0                 1              1   \n",
       "\n",
       "  employment_type required_experience required_education  \\\n",
       "0           Other          Internship                NaN   \n",
       "1       Full-time      Not Applicable                NaN   \n",
       "2             NaN                 NaN                NaN   \n",
       "3       Full-time    Mid-Senior level  Bachelor's Degree   \n",
       "4       Full-time    Mid-Senior level  Bachelor's Degree   \n",
       "\n",
       "                    industry              function  fraudulent  \\\n",
       "0                        NaN             Marketing           0   \n",
       "1  Marketing and Advertising      Customer Service           0   \n",
       "2                        NaN                   NaN           0   \n",
       "3          Computer Software                 Sales           0   \n",
       "4     Hospital & Health Care  Health Care Provider           0   \n",
       "\n",
       "                                              job_ad  \n",
       "0  We're Food52, and we've created a groundbreaki...  \n",
       "1  90 Seconds, the worlds Cloud Video Production ...  \n",
       "2  Valor Services provides Workforce Solutions th...  \n",
       "3  Our passion for improving quality of life thro...  \n",
       "4  SpotSource Solutions LLC is a Global Human Cap...  "
      ]
     },
     "execution_count": 12,
     "metadata": {},
     "output_type": "execute_result"
    }
   ],
   "source": [
    "data.head()"
   ]
  },
  {
   "cell_type": "markdown",
   "id": "2abb8cd5-f4b8-45b3-a71d-c143d2ea38ab",
   "metadata": {},
   "source": [
    "## Extract Country"
   ]
  },
  {
   "cell_type": "code",
   "execution_count": 13,
   "id": "a2395ba3-1aac-491d-96c0-e4a5b098dfe7",
   "metadata": {},
   "outputs": [],
   "source": [
    "locations = pd.DataFrame(data['location'].apply(lambda x: str(x).split(', ',3)).to_list(), columns=['country', 'region', 'city', 'loc_more'])"
   ]
  },
  {
   "cell_type": "code",
   "execution_count": 14,
   "id": "d72dc835-37c2-4218-8da3-08d984b9b51c",
   "metadata": {},
   "outputs": [],
   "source": [
    "df = pd.merge(left=data, right=locations, left_index=True, right_index=True)"
   ]
  },
  {
   "cell_type": "code",
   "execution_count": 15,
   "id": "0ad8221f-93a3-4be9-b53c-3bc96106b7bc",
   "metadata": {},
   "outputs": [
    {
     "data": {
      "text/html": [
       "<div>\n",
       "<style scoped>\n",
       "    .dataframe tbody tr th:only-of-type {\n",
       "        vertical-align: middle;\n",
       "    }\n",
       "\n",
       "    .dataframe tbody tr th {\n",
       "        vertical-align: top;\n",
       "    }\n",
       "\n",
       "    .dataframe thead th {\n",
       "        text-align: right;\n",
       "    }\n",
       "</style>\n",
       "<table border=\"1\" class=\"dataframe\">\n",
       "  <thead>\n",
       "    <tr style=\"text-align: right;\">\n",
       "      <th></th>\n",
       "      <th>job_id</th>\n",
       "      <th>title</th>\n",
       "      <th>location</th>\n",
       "      <th>department</th>\n",
       "      <th>salary_range</th>\n",
       "      <th>telecommuting</th>\n",
       "      <th>has_company_logo</th>\n",
       "      <th>has_questions</th>\n",
       "      <th>employment_type</th>\n",
       "      <th>required_experience</th>\n",
       "      <th>required_education</th>\n",
       "      <th>industry</th>\n",
       "      <th>function</th>\n",
       "      <th>fraudulent</th>\n",
       "      <th>job_ad</th>\n",
       "      <th>country</th>\n",
       "      <th>region</th>\n",
       "      <th>city</th>\n",
       "      <th>loc_more</th>\n",
       "    </tr>\n",
       "  </thead>\n",
       "  <tbody>\n",
       "    <tr>\n",
       "      <th>0</th>\n",
       "      <td>1</td>\n",
       "      <td>Marketing Intern</td>\n",
       "      <td>US, NY, New York</td>\n",
       "      <td>Marketing</td>\n",
       "      <td>NaN</td>\n",
       "      <td>0</td>\n",
       "      <td>1</td>\n",
       "      <td>0</td>\n",
       "      <td>Other</td>\n",
       "      <td>Internship</td>\n",
       "      <td>NaN</td>\n",
       "      <td>NaN</td>\n",
       "      <td>Marketing</td>\n",
       "      <td>0</td>\n",
       "      <td>We're Food52, and we've created a groundbreaki...</td>\n",
       "      <td>US</td>\n",
       "      <td>NY</td>\n",
       "      <td>New York</td>\n",
       "      <td>None</td>\n",
       "    </tr>\n",
       "    <tr>\n",
       "      <th>1</th>\n",
       "      <td>2</td>\n",
       "      <td>Customer Service - Cloud Video Production</td>\n",
       "      <td>NZ, , Auckland</td>\n",
       "      <td>Success</td>\n",
       "      <td>NaN</td>\n",
       "      <td>0</td>\n",
       "      <td>1</td>\n",
       "      <td>0</td>\n",
       "      <td>Full-time</td>\n",
       "      <td>Not Applicable</td>\n",
       "      <td>NaN</td>\n",
       "      <td>Marketing and Advertising</td>\n",
       "      <td>Customer Service</td>\n",
       "      <td>0</td>\n",
       "      <td>90 Seconds, the worlds Cloud Video Production ...</td>\n",
       "      <td>NZ</td>\n",
       "      <td></td>\n",
       "      <td>Auckland</td>\n",
       "      <td>None</td>\n",
       "    </tr>\n",
       "    <tr>\n",
       "      <th>2</th>\n",
       "      <td>3</td>\n",
       "      <td>Commissioning Machinery Assistant (CMA)</td>\n",
       "      <td>US, IA, Wever</td>\n",
       "      <td>NaN</td>\n",
       "      <td>NaN</td>\n",
       "      <td>0</td>\n",
       "      <td>1</td>\n",
       "      <td>0</td>\n",
       "      <td>NaN</td>\n",
       "      <td>NaN</td>\n",
       "      <td>NaN</td>\n",
       "      <td>NaN</td>\n",
       "      <td>NaN</td>\n",
       "      <td>0</td>\n",
       "      <td>Valor Services provides Workforce Solutions th...</td>\n",
       "      <td>US</td>\n",
       "      <td>IA</td>\n",
       "      <td>Wever</td>\n",
       "      <td>None</td>\n",
       "    </tr>\n",
       "    <tr>\n",
       "      <th>3</th>\n",
       "      <td>4</td>\n",
       "      <td>Account Executive - Washington DC</td>\n",
       "      <td>US, DC, Washington</td>\n",
       "      <td>Sales</td>\n",
       "      <td>NaN</td>\n",
       "      <td>0</td>\n",
       "      <td>1</td>\n",
       "      <td>0</td>\n",
       "      <td>Full-time</td>\n",
       "      <td>Mid-Senior level</td>\n",
       "      <td>Bachelor's Degree</td>\n",
       "      <td>Computer Software</td>\n",
       "      <td>Sales</td>\n",
       "      <td>0</td>\n",
       "      <td>Our passion for improving quality of life thro...</td>\n",
       "      <td>US</td>\n",
       "      <td>DC</td>\n",
       "      <td>Washington</td>\n",
       "      <td>None</td>\n",
       "    </tr>\n",
       "    <tr>\n",
       "      <th>4</th>\n",
       "      <td>5</td>\n",
       "      <td>Bill Review Manager</td>\n",
       "      <td>US, FL, Fort Worth</td>\n",
       "      <td>NaN</td>\n",
       "      <td>NaN</td>\n",
       "      <td>0</td>\n",
       "      <td>1</td>\n",
       "      <td>1</td>\n",
       "      <td>Full-time</td>\n",
       "      <td>Mid-Senior level</td>\n",
       "      <td>Bachelor's Degree</td>\n",
       "      <td>Hospital &amp; Health Care</td>\n",
       "      <td>Health Care Provider</td>\n",
       "      <td>0</td>\n",
       "      <td>SpotSource Solutions LLC is a Global Human Cap...</td>\n",
       "      <td>US</td>\n",
       "      <td>FL</td>\n",
       "      <td>Fort Worth</td>\n",
       "      <td>None</td>\n",
       "    </tr>\n",
       "  </tbody>\n",
       "</table>\n",
       "</div>"
      ],
      "text/plain": [
       "   job_id                                      title            location  \\\n",
       "0       1                           Marketing Intern    US, NY, New York   \n",
       "1       2  Customer Service - Cloud Video Production      NZ, , Auckland   \n",
       "2       3    Commissioning Machinery Assistant (CMA)       US, IA, Wever   \n",
       "3       4          Account Executive - Washington DC  US, DC, Washington   \n",
       "4       5                        Bill Review Manager  US, FL, Fort Worth   \n",
       "\n",
       "  department salary_range  telecommuting  has_company_logo  has_questions  \\\n",
       "0  Marketing          NaN              0                 1              0   \n",
       "1    Success          NaN              0                 1              0   \n",
       "2        NaN          NaN              0                 1              0   \n",
       "3      Sales          NaN              0                 1              0   \n",
       "4        NaN          NaN              0                 1              1   \n",
       "\n",
       "  employment_type required_experience required_education  \\\n",
       "0           Other          Internship                NaN   \n",
       "1       Full-time      Not Applicable                NaN   \n",
       "2             NaN                 NaN                NaN   \n",
       "3       Full-time    Mid-Senior level  Bachelor's Degree   \n",
       "4       Full-time    Mid-Senior level  Bachelor's Degree   \n",
       "\n",
       "                    industry              function  fraudulent  \\\n",
       "0                        NaN             Marketing           0   \n",
       "1  Marketing and Advertising      Customer Service           0   \n",
       "2                        NaN                   NaN           0   \n",
       "3          Computer Software                 Sales           0   \n",
       "4     Hospital & Health Care  Health Care Provider           0   \n",
       "\n",
       "                                              job_ad country region  \\\n",
       "0  We're Food52, and we've created a groundbreaki...      US     NY   \n",
       "1  90 Seconds, the worlds Cloud Video Production ...      NZ          \n",
       "2  Valor Services provides Workforce Solutions th...      US     IA   \n",
       "3  Our passion for improving quality of life thro...      US     DC   \n",
       "4  SpotSource Solutions LLC is a Global Human Cap...      US     FL   \n",
       "\n",
       "         city loc_more  \n",
       "0    New York     None  \n",
       "1    Auckland     None  \n",
       "2       Wever     None  \n",
       "3  Washington     None  \n",
       "4  Fort Worth     None  "
      ]
     },
     "execution_count": 15,
     "metadata": {},
     "output_type": "execute_result"
    }
   ],
   "source": [
    "df.head()"
   ]
  },
  {
   "cell_type": "code",
   "execution_count": 16,
   "id": "82029047-01e4-4a53-b79f-29b08766233e",
   "metadata": {},
   "outputs": [
    {
     "data": {
      "text/plain": [
       "job_id                     0\n",
       "title                      0\n",
       "location                 346\n",
       "department             11547\n",
       "salary_range           15012\n",
       "telecommuting              0\n",
       "has_company_logo           0\n",
       "has_questions              0\n",
       "employment_type         3471\n",
       "required_experience     7050\n",
       "required_education      8105\n",
       "industry                4903\n",
       "function                6455\n",
       "fraudulent                 0\n",
       "job_ad                     0\n",
       "country                    0\n",
       "region                   440\n",
       "city                     440\n",
       "loc_more               17762\n",
       "dtype: int64"
      ]
     },
     "execution_count": 16,
     "metadata": {},
     "output_type": "execute_result"
    }
   ],
   "source": [
    "df.isnull().sum()"
   ]
  },
  {
   "cell_type": "code",
   "execution_count": 17,
   "id": "e8cf9f6c-ebf5-48b1-b551-7f051b88744c",
   "metadata": {},
   "outputs": [],
   "source": [
    "df = df.drop(columns=['location', 'salary_range', 'region', 'city', 'loc_more', 'job_id'])"
   ]
  },
  {
   "cell_type": "markdown",
   "id": "60d870ef-1cee-42f4-bb75-25c806758912",
   "metadata": {},
   "source": [
    "### Data Exploration"
   ]
  },
  {
   "cell_type": "code",
   "execution_count": 18,
   "id": "0f83fa16-a10e-4e20-804c-8d9d536499cb",
   "metadata": {},
   "outputs": [
    {
     "data": {
      "text/plain": [
       "Index(['title', 'department', 'telecommuting', 'has_company_logo',\n",
       "       'has_questions', 'employment_type', 'required_experience',\n",
       "       'required_education', 'industry', 'function', 'fraudulent', 'job_ad',\n",
       "       'country'],\n",
       "      dtype='object')"
      ]
     },
     "execution_count": 18,
     "metadata": {},
     "output_type": "execute_result"
    }
   ],
   "source": [
    "df.columns"
   ]
  },
  {
   "cell_type": "markdown",
   "id": "4a573927-d8bd-4ca1-9609-3806cfaa68e6",
   "metadata": {},
   "source": [
    "#### Target"
   ]
  },
  {
   "cell_type": "code",
   "execution_count": 19,
   "id": "e0f9e650-f532-475d-adda-7e5d80300ffe",
   "metadata": {},
   "outputs": [
    {
     "data": {
      "text/plain": [
       "fraudulent\n",
       "0    0.951566\n",
       "1    0.048434\n",
       "Name: proportion, dtype: float64"
      ]
     },
     "execution_count": 19,
     "metadata": {},
     "output_type": "execute_result"
    }
   ],
   "source": [
    "df['fraudulent'].value_counts(normalize=True)"
   ]
  },
  {
   "cell_type": "markdown",
   "id": "a52a7bf1-2cf6-4822-b562-7d2a0ee80345",
   "metadata": {},
   "source": [
    "#### `title`"
   ]
  },
  {
   "cell_type": "code",
   "execution_count": 20,
   "id": "39384267-944e-477b-bdea-a2188e388c54",
   "metadata": {},
   "outputs": [
    {
     "data": {
      "text/plain": [
       "11231"
      ]
     },
     "execution_count": 20,
     "metadata": {},
     "output_type": "execute_result"
    }
   ],
   "source": [
    "df['title'].nunique()"
   ]
  },
  {
   "cell_type": "markdown",
   "id": "eb30c1f1-36ed-4045-bc99-784883994ff6",
   "metadata": {},
   "source": [
    "That's way too many to be helpful, going to __drop__ this column"
   ]
  },
  {
   "cell_type": "markdown",
   "id": "d1d08c86-2370-43cc-b746-38d9cc43bfd1",
   "metadata": {},
   "source": [
    "#### `department`"
   ]
  },
  {
   "cell_type": "code",
   "execution_count": 21,
   "id": "f0cb39f2-a3f9-48c4-8b9f-e6c20f0a955a",
   "metadata": {},
   "outputs": [
    {
     "data": {
      "text/plain": [
       "1337"
      ]
     },
     "execution_count": 21,
     "metadata": {},
     "output_type": "execute_result"
    }
   ],
   "source": [
    "df['department'].nunique()"
   ]
  },
  {
   "cell_type": "markdown",
   "id": "dda37bdd-cf39-4efe-a82a-cd71c269e882",
   "metadata": {},
   "source": [
    "Still too many to keep, __drop__ column."
   ]
  },
  {
   "cell_type": "markdown",
   "id": "2edc09d5-a18a-4e54-a6c3-c16a42fd255a",
   "metadata": {},
   "source": [
    "#### `employment_type`"
   ]
  },
  {
   "cell_type": "code",
   "execution_count": 22,
   "id": "926b889c-a0cf-4e87-9dc2-c0ac0c9a65ea",
   "metadata": {},
   "outputs": [
    {
     "data": {
      "text/plain": [
       "5"
      ]
     },
     "execution_count": 22,
     "metadata": {},
     "output_type": "execute_result"
    }
   ],
   "source": [
    "df['employment_type'].nunique()"
   ]
  },
  {
   "cell_type": "code",
   "execution_count": 23,
   "id": "a2d1d20d-87f5-4ac5-baca-dfa509412a4c",
   "metadata": {},
   "outputs": [
    {
     "data": {
      "text/plain": [
       "employment_type\n",
       "Full-time    0.806440\n",
       "Contract     0.105767\n",
       "Part-time    0.055313\n",
       "Temporary    0.016726\n",
       "Other        0.015754\n",
       "Name: proportion, dtype: float64"
      ]
     },
     "execution_count": 23,
     "metadata": {},
     "output_type": "execute_result"
    }
   ],
   "source": [
    "df['employment_type'].value_counts(normalize=True)"
   ]
  },
  {
   "cell_type": "markdown",
   "id": "417beac7-0764-4071-bf3f-790018e7fdbf",
   "metadata": {},
   "source": [
    "Going to __one hot encode__ this column."
   ]
  },
  {
   "cell_type": "markdown",
   "id": "f8c8bed8-8fdb-4261-b3d0-8cfa8dd8bca7",
   "metadata": {},
   "source": [
    "#### `required_experience`"
   ]
  },
  {
   "cell_type": "code",
   "execution_count": 24,
   "id": "c192d844-24e1-4e3f-af7c-8e83abbe5cb3",
   "metadata": {},
   "outputs": [
    {
     "data": {
      "text/plain": [
       "7"
      ]
     },
     "execution_count": 24,
     "metadata": {},
     "output_type": "execute_result"
    }
   ],
   "source": [
    "df['required_experience'].nunique()"
   ]
  },
  {
   "cell_type": "code",
   "execution_count": 25,
   "id": "208deef3-0861-4d0b-a2dc-4f30cd896cb0",
   "metadata": {},
   "outputs": [
    {
     "data": {
      "text/plain": [
       "required_experience\n",
       "Mid-Senior level    0.351708\n",
       "Entry level         0.249030\n",
       "Associate           0.212096\n",
       "Not Applicable      0.103047\n",
       "Director            0.035919\n",
       "Internship          0.035180\n",
       "Executive           0.013019\n",
       "Name: proportion, dtype: float64"
      ]
     },
     "execution_count": 25,
     "metadata": {},
     "output_type": "execute_result"
    }
   ],
   "source": [
    "df['required_experience'].value_counts(normalize=True)"
   ]
  },
  {
   "cell_type": "markdown",
   "id": "897fd99a-945d-42c9-9f79-cd344b590a35",
   "metadata": {},
   "source": [
    "Going to __one hot encode__ this column"
   ]
  },
  {
   "cell_type": "markdown",
   "id": "d60ae2ef-80da-4b12-82b6-ccbd99550ca1",
   "metadata": {},
   "source": [
    "#### `required_education`"
   ]
  },
  {
   "cell_type": "code",
   "execution_count": 26,
   "id": "f06b100a-c1b2-4d1a-9700-dfab9152eeeb",
   "metadata": {},
   "outputs": [
    {
     "data": {
      "text/plain": [
       "13"
      ]
     },
     "execution_count": 26,
     "metadata": {},
     "output_type": "execute_result"
    }
   ],
   "source": [
    "df['required_education'].nunique()"
   ]
  },
  {
   "cell_type": "code",
   "execution_count": 27,
   "id": "765d686b-fee9-4032-8787-1e5a1fcc1ccf",
   "metadata": {},
   "outputs": [
    {
     "data": {
      "text/plain": [
       "required_education\n",
       "Bachelor's Degree                    0.526343\n",
       "High School or equivalent            0.212788\n",
       "Unspecified                          0.142916\n",
       "Master's Degree                      0.042558\n",
       "Associate Degree                     0.028031\n",
       "Certification                        0.017391\n",
       "Some College Coursework Completed    0.010435\n",
       "Professional                         0.007570\n",
       "Vocational                           0.005013\n",
       "Some High School Coursework          0.002762\n",
       "Doctorate                            0.002660\n",
       "Vocational - HS Diploma              0.000921\n",
       "Vocational - Degree                  0.000614\n",
       "Name: proportion, dtype: float64"
      ]
     },
     "execution_count": 27,
     "metadata": {},
     "output_type": "execute_result"
    }
   ],
   "source": [
    "df['required_education'].value_counts(normalize=True)"
   ]
  },
  {
   "cell_type": "markdown",
   "id": "0dcddf5d-db17-49cc-81b0-25525770fea0",
   "metadata": {},
   "source": [
    "Going to __drop__ for now (especially since 45% are unknown).  Otherwise, I could divide this into a few combinations: such as complete high school, completed some college, bachelors, and graduate degree.  But there are lots of uncertain and gray areas: professional degrees, vocational degrees, and certification could all be in additional to a college degree or an alternate / preferred path for the field."
   ]
  },
  {
   "cell_type": "markdown",
   "id": "a6b95613-c7c5-44d8-9e97-e8c1fdba356a",
   "metadata": {},
   "source": [
    "#### `industry`"
   ]
  },
  {
   "cell_type": "code",
   "execution_count": 28,
   "id": "81c4af59-9d59-4322-a8b3-688640954422",
   "metadata": {},
   "outputs": [
    {
     "data": {
      "text/plain": [
       "131"
      ]
     },
     "execution_count": 28,
     "metadata": {},
     "output_type": "execute_result"
    }
   ],
   "source": [
    "df['industry'].nunique()"
   ]
  },
  {
   "cell_type": "markdown",
   "id": "82ef882d-aa6a-4581-9ecb-9fb974a358c1",
   "metadata": {},
   "source": [
    "Too big, __drop__ this column."
   ]
  },
  {
   "cell_type": "markdown",
   "id": "1ad862c4-b760-4688-b4f9-14b65176e924",
   "metadata": {},
   "source": [
    "#### `function`"
   ]
  },
  {
   "cell_type": "code",
   "execution_count": 29,
   "id": "0ce58d4c-a6ad-4756-8c1e-2e13a61b028a",
   "metadata": {},
   "outputs": [
    {
     "data": {
      "text/plain": [
       "37"
      ]
     },
     "execution_count": 29,
     "metadata": {},
     "output_type": "execute_result"
    }
   ],
   "source": [
    "df['function'].nunique()"
   ]
  },
  {
   "cell_type": "code",
   "execution_count": 30,
   "id": "85f6298d-88d3-410f-8a67-151c1667ea88",
   "metadata": {},
   "outputs": [
    {
     "data": {
      "text/plain": [
       "function\n",
       "Information Technology    0.153085\n",
       "Sales                     0.128490\n",
       "Engineering               0.117987\n",
       "Customer Service          0.107571\n",
       "Marketing                 0.072648\n",
       "Administrative            0.055142\n",
       "Design                    0.029759\n",
       "Health Care Provider      0.029584\n",
       "Other                     0.028446\n",
       "Education                 0.028446\n",
       "Management                0.027746\n",
       "Business Development      0.019956\n",
       "Accounting/Auditing       0.018556\n",
       "Human Resources           0.017943\n",
       "Project Management        0.016018\n",
       "Finance                   0.015055\n",
       "Consulting                0.012604\n",
       "Writing/Editing           0.011554\n",
       "Art/Creative              0.011554\n",
       "Production                0.010153\n",
       "Product Management        0.009978\n",
       "Quality Assurance         0.009716\n",
       "Advertising               0.007877\n",
       "Business Analyst          0.007352\n",
       "Data Analyst              0.007177\n",
       "Public Relations          0.006652\n",
       "Manufacturing             0.006477\n",
       "General Business          0.005952\n",
       "Research                  0.004376\n",
       "Legal                     0.004114\n",
       "Strategy/Planning         0.004026\n",
       "Training                  0.003326\n",
       "Supply Chain              0.003151\n",
       "Financial Analyst         0.002888\n",
       "Distribution              0.002101\n",
       "Purchasing                0.001313\n",
       "Science                   0.001225\n",
       "Name: proportion, dtype: float64"
      ]
     },
     "execution_count": 30,
     "metadata": {},
     "output_type": "execute_result"
    }
   ],
   "source": [
    "df['function'].value_counts(normalize=True)"
   ]
  },
  {
   "cell_type": "markdown",
   "id": "1e61f901-faa7-44d3-bc2a-c15b04277d15",
   "metadata": {},
   "source": [
    "This column also has too many unique values to keep, however, this is another one that could benefit from some detailed investigation.  __Drop__ column for now."
   ]
  },
  {
   "cell_type": "markdown",
   "id": "6a5d82b7-fa71-4af5-bc26-18757108b690",
   "metadata": {},
   "source": [
    "#### `country`"
   ]
  },
  {
   "cell_type": "code",
   "execution_count": 31,
   "id": "b309232e-9881-4c4f-b64b-56665e55b1ba",
   "metadata": {},
   "outputs": [
    {
     "data": {
      "text/plain": [
       "91"
      ]
     },
     "execution_count": 31,
     "metadata": {},
     "output_type": "execute_result"
    }
   ],
   "source": [
    "df['country'].nunique()"
   ]
  },
  {
   "cell_type": "markdown",
   "id": "725b42d9-45c6-46fe-9aa6-36adfbdc3f22",
   "metadata": {},
   "source": [
    "Going to __drop__ this column as well.  A more interesting piece of information is if the company is advertising inside or outside of their easy-to-hire region."
   ]
  },
  {
   "cell_type": "markdown",
   "id": "b7f751fa-5b40-4562-9261-3db70513e363",
   "metadata": {},
   "source": [
    "#### Summary of Columns"
   ]
  },
  {
   "cell_type": "markdown",
   "id": "b814bed2-713d-4187-bbe4-60c1000074ea",
   "metadata": {},
   "source": [
    "| Column | Data Type | Plans |\n",
    "| --- | --- | --- |\n",
    "| `title` | categorical | drop |\n",
    "| `department` | categorical | drop |\n",
    "| `telecommuting` | boolean | keep as is |\n",
    "| `has_company_logo` | boolean | keep as is |\n",
    "| `has_questions` | boolean | keep as is |\n",
    "| `employment_type` | categorical | one hot encode |\n",
    "| `required_experience` | categorical | one hot encode |\n",
    "| `required_education` | categorical | drop | \n",
    "| `industry` | categorical | drop |\n",
    "| `function` | categorical | drop |\n",
    "| `job_ad` | text | process |\n",
    "| `country` | categorical | drop |\n",
    "\n",
    "_Note:_ a company logo's can be easily made up or stolen, so this may or may not be a helpful piece of information"
   ]
  },
  {
   "cell_type": "code",
   "execution_count": 34,
   "id": "fda39e74-431c-47cd-aa7f-208abbb2063e",
   "metadata": {},
   "outputs": [],
   "source": [
    "df = df.drop(columns=['title', 'department', 'required_education', 'industry', 'function', 'country'])"
   ]
  },
  {
   "cell_type": "code",
   "execution_count": 35,
   "id": "5fb0626c-d68d-42f5-98fc-e403e8369053",
   "metadata": {},
   "outputs": [],
   "source": [
    "df.to_csv('../data/clean/job_ads.csv', index= False)"
   ]
  }
 ],
 "metadata": {
  "kernelspec": {
   "display_name": "Python 3 (ipykernel)",
   "language": "python",
   "name": "python3"
  },
  "language_info": {
   "codemirror_mode": {
    "name": "ipython",
    "version": 3
   },
   "file_extension": ".py",
   "mimetype": "text/x-python",
   "name": "python",
   "nbconvert_exporter": "python",
   "pygments_lexer": "ipython3",
   "version": "3.11.9"
  }
 },
 "nbformat": 4,
 "nbformat_minor": 5
}
