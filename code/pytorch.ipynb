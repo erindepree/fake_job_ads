{
 "cells": [
  {
   "cell_type": "markdown",
   "id": "5b03e03c-bc10-449c-85f2-ed65faa7e2bd",
   "metadata": {},
   "source": [
    "# PyTorch and DistilBERT"
   ]
  },
  {
   "cell_type": "code",
   "execution_count": null,
   "id": "a4f8e1d7-4163-4f30-98d1-cc9302e4410a",
   "metadata": {},
   "outputs": [],
   "source": [
    "import numpy as np\n",
    "import pandas as pd\n",
    "import matplotlib.pyplot as plt\n",
    "\n",
    "#import keras_hub as hub\n",
    "#import keras\n",
    "\n",
    "import torch\n",
    "import \n",
    "\n",
    "\n",
    "import tensorflow as tf\n",
    "from datasets import Dataset\n",
    "#import tensorflow_decision_forests as tfdf\n",
    "#import ydf\n",
    "from sklearn.model_selection import train_test_split"
   ]
  },
  {
   "cell_type": "markdown",
   "id": "75e74891-b6ad-42e5-aff1-385e26e89015",
   "metadata": {
    "jp-MarkdownHeadingCollapsed": true
   },
   "source": [
    "## TF Datasets"
   ]
  }
 ],
 "metadata": {
  "kernelspec": {
   "display_name": "Python 3 (ipykernel)",
   "language": "python",
   "name": "python3"
  },
  "language_info": {
   "codemirror_mode": {
    "name": "ipython",
    "version": 3
   },
   "file_extension": ".py",
   "mimetype": "text/x-python",
   "name": "python",
   "nbconvert_exporter": "python",
   "pygments_lexer": "ipython3",
   "version": "3.11.9"
  }
 },
 "nbformat": 4,
 "nbformat_minor": 5
}
